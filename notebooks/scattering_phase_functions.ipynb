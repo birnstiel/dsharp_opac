{
 "cells": [
  {
   "cell_type": "markdown",
   "metadata": {},
   "source": [
    "# Scattering Phase Functions"
   ]
  },
  {
   "cell_type": "code",
   "execution_count": null,
   "metadata": {
    "slideshow": {
     "slide_type": "subslide"
    }
   },
   "outputs": [],
   "source": [
    "%matplotlib inline\n",
    "import numpy as np\n",
    "import matplotlib.pyplot as plt\n",
    "import seaborn as sns\n",
    "\n",
    "import pymiecoated\n",
    "import dsharp_opac as opacity\n",
    "\n",
    "sns.set({'figure.dpi':200})"
   ]
  },
  {
   "cell_type": "markdown",
   "metadata": {},
   "source": [
    "Define a plotting helper function"
   ]
  },
  {
   "cell_type": "code",
   "execution_count": null,
   "metadata": {},
   "outputs": [],
   "source": [
    "def plot_logpolar(ax, theta, r_, bullseye=None, **kwargs):\n",
    "    min10 = np.log10(np.min(r_))\n",
    "    max10 = np.log10(np.max(r_))\n",
    "    if bullseye is None:\n",
    "        bullseye = min10 - np.log10(0.5 * np.min(r_))\n",
    "    r = np.log10(r_) - min10 + bullseye\n",
    "    ax.plot(theta, r, **kwargs)\n",
    "    l = np.arange(np.floor(min10), max10)\n",
    "    ax.set_rticks(l - min10 + bullseye) \n",
    "    ax.set_yticklabels([\"$10^{{{:.0f}}}$\".format(x) for x in l],fontdict={'fontsize':'xx-small'})\n",
    "    ax.set_rlim(0, max10 - min10 + bullseye)\n",
    "    return ax"
   ]
  },
  {
   "cell_type": "markdown",
   "metadata": {
    "slideshow": {
     "slide_type": "-"
    }
   },
   "source": [
    "Define the Henyey-Greenstein phase function"
   ]
  },
  {
   "cell_type": "code",
   "execution_count": null,
   "metadata": {},
   "outputs": [],
   "source": [
    "def hg(mu, g):\n",
    "    return (1 - g**2) / (1 + g**2 - 2 * g * mu)**1.5"
   ]
  },
  {
   "cell_type": "markdown",
   "metadata": {
    "slideshow": {
     "slide_type": "slide"
    }
   },
   "source": [
    "## Calculate liquid water phase function"
   ]
  },
  {
   "cell_type": "markdown",
   "metadata": {},
   "source": [
    "Set wavelength and sizes"
   ]
  },
  {
   "cell_type": "code",
   "execution_count": null,
   "metadata": {},
   "outputs": [],
   "source": [
    "lam = np.array([0.55e-4])      # wavelength\n",
    "a   = np.array([1e-4, 10e-4])  # particle radius"
   ]
  },
  {
   "cell_type": "markdown",
   "metadata": {},
   "source": [
    "Calculate Mie opacities"
   ]
  },
  {
   "cell_type": "code",
   "execution_count": null,
   "metadata": {},
   "outputs": [],
   "source": [
    "dc = opacity.diel_segelstein_water()\n",
    "rho_s = dc.rho\n",
    "result = opacity.get_opacities(a, lam, rho_s=rho_s, diel_const=dc, n_angle=500)"
   ]
  },
  {
   "cell_type": "markdown",
   "metadata": {},
   "source": [
    "Make polar and regular plots of the phase function and overplot the HG phase function"
   ]
  },
  {
   "cell_type": "code",
   "execution_count": null,
   "metadata": {},
   "outputs": [],
   "source": [
    "f1,ax1 = plt.subplots(1, 2, figsize=(12, 5), subplot_kw=dict(projection='polar'))\n",
    "f2,ax2 = plt.subplots(1, 2, figsize=(12, 3))\n",
    "\n",
    "for ia in range(len(a)):\n",
    "    g     = result['g'][ia, 0]\n",
    "    S1    = result['S1'][ia, 0, :]\n",
    "    S2    = result['S2'][ia, 0, :]\n",
    "    theta = result['theta']\n",
    "    angle = theta * np.pi / 180.\n",
    "    mu    = np.cos(angle)\n",
    "    m     = 4 * np.pi / 3 * rho_s * a[ia]**3\n",
    "\n",
    "    sig_s = result['q_sca'][ia, 0] * np.pi * a[ia]**2\n",
    "    sig_a = result['q_abs'][ia, 0] * np.pi * a[ia]**2\n",
    "\n",
    "    S11   = 0.5 * (S1 * S1.conjugate() + S2 * S2.conjugate()).real\n",
    "    P11   = lam**2 / (np.pi * sig_s) * S11\n",
    "\n",
    "\n",
    "    plot_logpolar(ax1[ia], angle, hg(mu,g), label='Henyey-Greenstein')\n",
    "    plot_logpolar(ax1[ia], angle, P11, label='Mie calculation',lw=1)\n",
    "\n",
    "\n",
    "    ax2[ia].semilogy(theta, hg(mu,g), label='Henyey-Greenstein')\n",
    "    ax2[ia].semilogy(theta, P11, label='Mie calculation',lw=1)\n",
    "\n",
    "\n",
    "for _ax in ax1:\n",
    "    _ax.set_thetamax(180)\n",
    "    _ax.set_xticks(np.linspace(0,np.pi,5))\n",
    "    _ax.legend();\n",
    "    \n",
    "for _ax in ax2:\n",
    "    _ax.set_xticks([0, 50, 100, 150])\n",
    "    _ax.legend();"
   ]
  },
  {
   "cell_type": "markdown",
   "metadata": {
    "slideshow": {
     "slide_type": "slide"
    }
   },
   "source": [
    "## Calculate Müller Matrix"
   ]
  },
  {
   "cell_type": "code",
   "execution_count": null,
   "metadata": {},
   "outputs": [],
   "source": [
    "theta = result['theta']\n",
    "k_sca = result['k_sca']\n",
    "S1    = result['S1']\n",
    "S2    = result['S2']\n",
    "lam   = result['lam']\n",
    "g     = result['g']"
   ]
  },
  {
   "cell_type": "markdown",
   "metadata": {},
   "source": [
    "Calculate the masses and the Müller matrix"
   ]
  },
  {
   "cell_type": "code",
   "execution_count": null,
   "metadata": {},
   "outputs": [],
   "source": [
    "m  = 4 * np.pi / 3 * rho_s * a**3\n",
    "MM = opacity.calculate_mueller_matrix(lam, m, S1, S2, theta=theta, k_sca=k_sca)\n",
    "zscat = MM['zscat']"
   ]
  },
  {
   "cell_type": "code",
   "execution_count": null,
   "metadata": {},
   "outputs": [],
   "source": [
    "mu = np.cos(np.pi * theta / 180)"
   ]
  },
  {
   "cell_type": "markdown",
   "metadata": {},
   "source": [
    "For some selected sizes and wavelengths: check conventions of $Z_{11}$."
   ]
  },
  {
   "cell_type": "code",
   "execution_count": null,
   "metadata": {},
   "outputs": [],
   "source": [
    "ia = 1\n",
    "ilam = 0\n",
    "\n",
    "kk = 2 * np.pi * np.trapz(zscat[ia, ilam, ::-1, 0], x=mu[::-1])\n",
    "gg = 2 * np.pi / kk * np.trapz(mu[::-1] * zscat[ia, ilam, ::-1, 0], x=mu[::-1])\n",
    "\n",
    "\n",
    "print('k_sca[Z11] = {:.6g}'.format(ks))\n",
    "print('k_sca[Mie] = {:.6g}'.format(k_sca[ia, ilam]))\n",
    "print('g[Z11]     = {:.6g}'.format(gg))\n",
    "print('g[Mie]     = {:.6g}'.format(g[ia, ilam]))"
   ]
  }
 ],
 "metadata": {
  "kernelspec": {
   "display_name": "Python 3",
   "language": "python",
   "name": "python3"
  },
  "language_info": {
   "codemirror_mode": {
    "name": "ipython",
    "version": 3
   },
   "file_extension": ".py",
   "mimetype": "text/x-python",
   "name": "python",
   "nbconvert_exporter": "python",
   "pygments_lexer": "ipython3",
   "version": "3.6.8"
  }
 },
 "nbformat": 4,
 "nbformat_minor": 2
}
