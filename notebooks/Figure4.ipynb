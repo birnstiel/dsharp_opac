{
 "cells": [
  {
   "cell_type": "markdown",
   "metadata": {},
   "source": [
    "# Figure 4: Default Size Averaging"
   ]
  },
  {
   "cell_type": "code",
   "execution_count": null,
   "metadata": {},
   "outputs": [],
   "source": [
    "%run header.py"
   ]
  },
  {
   "cell_type": "code",
   "execution_count": null,
   "metadata": {},
   "outputs": [],
   "source": [
    "d      = np.load(opacity.get_datafile('default_opacities_smooth.npz'))\n",
    "a      = d['a']\n",
    "lam    = d['lam']\n",
    "k_abs  = d['k_abs']\n",
    "k_sca  = d['k_sca']\n",
    "gsca   = d['g']"
   ]
  },
  {
   "cell_type": "markdown",
   "metadata": {},
   "source": [
    "### Averaging $\\epsilon$"
   ]
  },
  {
   "cell_type": "code",
   "execution_count": null,
   "metadata": {},
   "outputs": [],
   "source": [
    "k_sca_eff = (1 - gsca) * k_sca"
   ]
  },
  {
   "cell_type": "code",
   "execution_count": null,
   "metadata": {},
   "outputs": [],
   "source": [
    "lam_avg = [0.1, 0.3]\n",
    "q       = [3.5, 2.5]\n",
    "res     = [opacity.size_average_opacity(lam_avg, a, lam, k_abs, k_sca, q=_q, plot=False) for _q in q]\n",
    "res_eff = [opacity.size_average_opacity(lam_avg, a, lam, k_abs, k_sca_eff, q=_q, plot=False) for _q in q]"
   ]
  },
  {
   "cell_type": "code",
   "execution_count": null,
   "metadata": {},
   "outputs": [],
   "source": [
    "eps     = [_res['ka'] / (_res['ka'] + _res['ks']) for _res in res]\n",
    "eps_eff = [_res_eff['ka'] / (_res_eff['ka'] + _res_eff['ks']) for _res_eff in res_eff]"
   ]
  },
  {
   "cell_type": "markdown",
   "metadata": {},
   "source": [
    "### Plotting"
   ]
  },
  {
   "cell_type": "code",
   "execution_count": null,
   "metadata": {},
   "outputs": [],
   "source": [
    "f, axs = plt.subplots(3, 1, figsize=(3.5, 3.5 * 3 * 0.603), sharex=True)\n",
    "i_lam = 0\n",
    "\n",
    "for _res,_q,_eps in zip(res, q, eps_eff):\n",
    "    l, = axs[0].loglog(a, _res['ka'][i_lam], '-', label='$q$ = {}, absorption'.format(_q))\n",
    "    axs[0].loglog(a, _res['ks'][i_lam], '--', label='$q$ = {}, scattering'.format(_q), c=l.get_color())\n",
    "    \n",
    "    axs[1].plot(a, _res['beta'], '-', label=r'$q$ = {}'.format(_q), c=l.get_color())\n",
    "    \n",
    "    axs[2].plot(a, _eps[i_lam,:], '-', label=r'$\\epsilon_\\mathrm{{1\\,mm}}^\\mathrm{{eff}}, q$ = {}'.format(_q), c=l.get_color())\n",
    "    \n",
    "\n",
    "for i in range(len(q)):\n",
    "    axs[2].plot(a, eps[i][i_lam,:], ':', c=axs[2].get_lines()[i].get_color(), label=r'$\\epsilon_{{{:.0g}\\,\\mathrm{{mm}}}}, \\, q$ = {}'.format(lam_avg[i_lam]*10, q[i]))\n",
    "    \n",
    "axs[0].set_ylabel('$\\kappa_\\mathrm{{{:.0f}\\,mm}}$ [cm$^2$/g]'.format(10 * lam_avg[i_lam]))\n",
    "axs[1].set_ylabel(r'$\\beta_\\mathrm{{{:.0f}-{:.0f}\\,mm}}$'.format(10 * lam_avg[0], 10 * lam_avg[1]))\n",
    "axs[2].set_ylabel(r'$\\epsilon_{{{:.0f}\\,\\mathrm{{mm}}}}$'.format(10 * lam_avg[i_lam]))\n",
    "axs[2].set_xlabel(r'$a_\\mathrm{max}$ [cm]')\n",
    "    \n",
    "axs[0].legend(fontsize='x-small', loc=2)\n",
    "axs[1].legend(fontsize='x-small', loc=2)\n",
    "axs[2].legend(fontsize='x-small', loc='best')\n",
    "axs[0].set_ylim(1e-2, 1e2)\n",
    "axs[1].set_ylim(0, 3.6)\n",
    "axs[1].set_xlim(1e-4, 1e2)\n",
    "axs[2].set_ylim(0, 1.1)\n",
    "\n",
    "f.subplots_adjust(\n",
    "    left=0.13, right=0.97,\n",
    "    bottom=0.09, top=0.98,\n",
    "    wspace=0.1, hspace=0.05)\n",
    "\n",
    "f.savefig('figures/fig4_size_average.pdf')"
   ]
  }
 ],
 "metadata": {
  "kernelspec": {
   "display_name": "Python 3",
   "language": "python",
   "name": "python3"
  },
  "language_info": {
   "codemirror_mode": {
    "name": "ipython",
    "version": 3
   },
   "file_extension": ".py",
   "mimetype": "text/x-python",
   "name": "python",
   "nbconvert_exporter": "python",
   "pygments_lexer": "ipython3",
   "version": "3.6.6"
  }
 },
 "nbformat": 4,
 "nbformat_minor": 2
}
