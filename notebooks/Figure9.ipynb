{
 "cells": [
  {
   "cell_type": "markdown",
   "metadata": {},
   "source": [
    "# Fig. 9: Scattering Layer "
   ]
  },
  {
   "cell_type": "code",
   "execution_count": null,
   "metadata": {},
   "outputs": [],
   "source": [
    "%run header.py"
   ]
  },
  {
   "cell_type": "code",
   "execution_count": null,
   "metadata": {},
   "outputs": [],
   "source": [
    "# Parameters\n",
    "\n",
    "mu    = 1.0\n",
    "neps  = 10\n",
    "eps   = np.linspace(0.1, 1.0, neps)[::-1]\n",
    "# eps    = 0.01 * 100**np.linspace(0, 1, neps)[::-1]\n",
    "ndtau = 80\n",
    "dtmin = 0.01\n",
    "dtmax = 100.\n",
    "dtau  = dtmin * (dtmax / dtmin)**np.linspace(0, 1, ndtau)"
   ]
  },
  {
   "cell_type": "code",
   "execution_count": null,
   "metadata": {},
   "outputs": [],
   "source": [
    "intout = np.zeros((neps, ndtau))\n",
    "intedb = np.zeros((neps, ndtau))\n",
    "\n",
    "for ieps in range(neps):\n",
    "    for idtau in range(ndtau):\n",
    "\n",
    "        # Set up the analytic scattering solution for a slab\n",
    "        # we take the Planck function to be B_nu=1 for convenience\n",
    "\n",
    "        Bnu    = 1.\n",
    "        ntau   = 100\n",
    "        tau    = np.linspace(-0.5 * dtau[idtau], 0.5 * dtau[idtau], ntau)\n",
    "        sqeps  = np.sqrt(eps[ieps])\n",
    "        sqeps3 = np.sqrt(3 * eps[ieps])\n",
    "        b      = 1. / ((1 - sqeps) * np.exp(-sqeps3 * dtau[idtau]) + (1 + sqeps))\n",
    "        Jnu = Bnu * (1. - b * (\n",
    "            np.exp(-sqeps3 * (0.5 * dtau[idtau] - tau)) +\n",
    "            np.exp(-sqeps3 * (0.5 * dtau[idtau] + tau))\n",
    "            ))\n",
    "\n",
    "        # Integrate the formal transfer equation\n",
    "\n",
    "        intnu = np.zeros(ntau)\n",
    "        Snu = eps[ieps] * Bnu + (1 - eps[ieps]) * Jnu\n",
    "        for i in range(1, ntau):\n",
    "            dtray = (tau[i] - tau[i - 1]) / mu\n",
    "            expdtray = np.exp(-dtray)\n",
    "            srcav = 0.5 * (Snu[i] + Snu[i - 1])\n",
    "            intnu[i] = expdtray * intnu[i - 1] + (1 - expdtray) * srcav\n",
    "        intout[ieps, idtau] = intnu[-1]\n",
    "\n",
    "        # Also compute the result using the modified Eddington-Barbier formula\n",
    "\n",
    "        tauray = (tau[-1] - tau) / mu\n",
    "        intedb[ieps, idtau] = (1 - np.exp(-dtau[idtau] / mu)) * \\\n",
    "            np.interp(2. / 3., tauray[::-1], Snu[::-1])"
   ]
  },
  {
   "cell_type": "markdown",
   "metadata": {},
   "source": [
    "#### Do the plot"
   ]
  },
  {
   "cell_type": "code",
   "execution_count": null,
   "metadata": {},
   "outputs": [],
   "source": [
    "f, ax = plt.subplots(figsize=(3.5, 3.5 * 0.65))\n",
    "\n",
    "for ieps in range(neps):\n",
    "    l1, = ax.plot(dtau, intout[ieps, :], label=r'$\\epsilon_\\nu =$' + '{:.1f}'.format(eps[ieps]))\n",
    "    l2, = ax.plot(dtau, intedb[ieps, :], ':', c=l1.get_color())\n",
    "\n",
    "ax.set_xlabel(r'$\\Delta\\tau$')\n",
    "ax.set_ylabel(r'$I_\\nu^{\\mathrm{obs}}/B_\\nu(T_d)$')\n",
    "ax.set_xscale('log')\n",
    "ax.set_yscale('log')\n",
    "ax.set_xlim(0.1, 10)\n",
    "ax.set_ylim(0.01, 1)\n",
    "ax.legend(fontsize='x-small')\n",
    "\n",
    "f.subplots_adjust(\n",
    "    left=0.14, right=0.96,\n",
    "    bottom=0.17, top=0.95\n",
    "    )\n",
    "f.savefig('figures/fig9_scatter_parscan.pdf')"
   ]
  }
 ],
 "metadata": {
  "kernelspec": {
   "display_name": "Python 3",
   "language": "python",
   "name": "python3"
  },
  "language_info": {
   "codemirror_mode": {
    "name": "ipython",
    "version": 3
   },
   "file_extension": ".py",
   "mimetype": "text/x-python",
   "name": "python",
   "nbconvert_exporter": "python",
   "pygments_lexer": "ipython3",
   "version": "3.6.6"
  }
 },
 "nbformat": 4,
 "nbformat_minor": 2
}
