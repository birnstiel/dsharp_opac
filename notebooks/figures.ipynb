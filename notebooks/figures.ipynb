{
 "cells": [
  {
   "cell_type": "markdown",
   "metadata": {},
   "source": [
    "# Figures for DSHARP Opacity paper"
   ]
  },
  {
   "cell_type": "markdown",
   "metadata": {},
   "source": [
    "## General import for all figures"
   ]
  },
  {
   "cell_type": "code",
   "execution_count": null,
   "metadata": {},
   "outputs": [],
   "source": [
    "%matplotlib inline\n",
    "import matplotlib.pyplot as plt\n",
    "import numpy as np\n",
    "import os\n",
    "import urllib\n",
    "\n",
    "#from disklab import opacity\n",
    "import dsharp_opac as opacity\n",
    "\n",
    "import aux_functions as aux\n",
    "aux.set_style()"
   ]
  },
  {
   "cell_type": "markdown",
   "metadata": {},
   "source": [
    "## Figure 1: comparison of optical constants"
   ]
  },
  {
   "cell_type": "code",
   "execution_count": null,
   "metadata": {},
   "outputs": [],
   "source": [
    "# get the optical constants\n",
    "\n",
    "water_henning = opacity.diel_henning('waterice',      new=True)\n",
    "water_pollack = opacity.diel_henning('waterice',      new=False)\n",
    "water_warren = opacity.diel_warrenbrandt08()\n",
    "\n",
    "organics_henning = opacity.diel_henning('organics',      new=True)\n",
    "organics_pollack = opacity.diel_henning('organics',      new=False)\n",
    "\n",
    "troilite_henning = opacity.diel_henning('troilite',      new=True)\n",
    "troilite_pollack = opacity.diel_henning('troilite',      new=False)\n",
    "\n",
    "labels = ['Henning & Stognienko (1996)', 'Pollack et al. (1994)', 'Warren & Brandt (2008)']\n",
    "\n",
    "const_w = [\n",
    "    water_henning,\n",
    "    water_pollack,\n",
    "    water_warren\n",
    "    ]\n",
    "\n",
    "const_o = [\n",
    "    organics_henning,\n",
    "    organics_pollack\n",
    "    ]\n",
    "\n",
    "const_t = [\n",
    "    troilite_henning,\n",
    "    troilite_pollack\n",
    "    ]"
   ]
  },
  {
   "cell_type": "code",
   "execution_count": null,
   "metadata": {},
   "outputs": [],
   "source": [
    "f, axs = plt.subplots(3, 1, figsize=(3.5, 3 * 3.5 * 0.54), sharex=True)\n",
    "\n",
    "axs = axs.ravel()\n",
    "axs2 = []\n",
    "for dc, ax in zip([const_w, const_o, const_t], axs):\n",
    "\n",
    "    lines_n = []\n",
    "    lines_k = []\n",
    "    \n",
    "    # plot real part\n",
    "    for _c, _l in zip(dc, labels):\n",
    "        lines_n += [ax.semilogx(_c._l, _c._n, '-', alpha=0.7, label=_l)[0]]\n",
    "\n",
    "    # plot imaginary part\n",
    "\n",
    "    ax2 = ax.twinx()\n",
    "    axs2 +=[ax2]\n",
    "    for _c, _l in zip(dc, labels):\n",
    "        lines_k += [ax2.loglog(_c._l, _c._k, '--', alpha=0.7, label=_l)[0]]\n",
    "\n",
    "    # add name of the species\n",
    "\n",
    "    ax.text(.05,.9,\n",
    "            dc[0].material_str.split()[0],\n",
    "            horizontalalignment='left',\n",
    "            transform=ax.transAxes)\n",
    "\n",
    "    # add legend to last panel\n",
    "\n",
    "    if len(axs2)==1:\n",
    "        lines_n += [ax.plot([], [], c='k', ls='-',  label='$n$')[0]]\n",
    "        lines_n += [ax.plot([], [], c='k', ls='--', label='$k$')[0]]\n",
    "        ax.legend(lines_n, [l.get_label() for l in lines_n], loc=4, fontsize='x-small')\n",
    "\n",
    "# adjust the labels\n",
    "\n",
    "axs[-1].set_xlabel('wavelength [cm]')\n",
    "\n",
    "for ax in axs[:-2]:\n",
    "    plt.setp(ax.get_xticklabels(), visible=False)\n",
    "\n",
    "for ax in axs:\n",
    "    ax.set_ylabel('n')\n",
    "    \n",
    "for ax in axs2:\n",
    "    ax.set_ylabel('k')\n",
    "\n",
    "# use same limits as in pollack paper\n",
    "\n",
    "axs[0].set_ylim(0.8,2.0)\n",
    "axs2[0].set_ylim(1e-9,1e1)\n",
    "\n",
    "axs[1].set_ylim(1.4,2.4)\n",
    "axs2[1].set_ylim(1e-3,1e0)\n",
    "\n",
    "axs[2].set_ylim(1e-2,1e3)\n",
    "axs[2].set_yscale('log')\n",
    "axs2[2].set_ylim(2e-2,1e3)\n",
    "\n",
    "\n",
    "axs[0].set_xlim(1e-5, 1e1)\n",
    "\n",
    "f.subplots_adjust(\n",
    "    hspace=0.1, wspace=0.0,\n",
    "    bottom=0.08, top=0.94,\n",
    "    left=0.15, right=0.85)\n",
    "\n",
    "f.savefig('../figures/fig1_optical_constants.pdf')"
   ]
  },
  {
   "cell_type": "markdown",
   "metadata": {},
   "source": [
    "## Figure 2: mixed optical constants"
   ]
  },
  {
   "cell_type": "code",
   "execution_count": null,
   "metadata": {},
   "outputs": [],
   "source": [
    "diel, rho_s = opacity.get_dsharp_mix(rule='Bruggeman')\n",
    "print('Average material density = {:.4f} g/cc'.format(rho_s))\n",
    "\n",
    "diel = diel.get_normal_object()\n",
    "\n",
    "f, ax = plt.subplots(figsize=(3.5, 3.5 * 0.615))\n",
    "\n",
    "\n",
    "lines = [ax.semilogx(diel._l, diel._n, '-', alpha=0.7, label='n')[0]]\n",
    "ax2 = ax.twinx()\n",
    "lines += [ax2.loglog(diel._l, diel._k, '--', alpha=0.7, label='k')[0]]\n",
    "\n",
    "# add legend to last panel\n",
    "ax.legend(lines, [l.get_label() for l in lines], loc=7, fontsize='small')\n",
    "\n",
    "ax.set_xlabel('wavelength [cm]')\n",
    "ax.set_ylabel('n')\n",
    "ax2.set_ylabel('k')\n",
    "ax.set_xlim(1e-5, 1e1)\n",
    "\n",
    "f.subplots_adjust(\n",
    "    bottom=0.18, top=0.96,\n",
    "    left=0.11, right=0.88\n",
    "    )\n",
    "\n",
    "f.savefig('../figures/fig2_mix.pdf')"
   ]
  },
  {
   "cell_type": "markdown",
   "metadata": {},
   "source": [
    "## Figure 3: opacities"
   ]
  },
  {
   "cell_type": "markdown",
   "metadata": {},
   "source": [
    "Loading the data"
   ]
  },
  {
   "cell_type": "code",
   "execution_count": null,
   "metadata": {},
   "outputs": [],
   "source": [
    "d      = np.load('data/default_opacities_smooth.npz')\n",
    "a      = d['a']\n",
    "lam    = d['lam']\n",
    "k_abs  = d['k_abs']\n",
    "k_sca  = d['k_sca']"
   ]
  },
  {
   "cell_type": "code",
   "execution_count": null,
   "metadata": {},
   "outputs": [],
   "source": [
    "f, axs = plt.subplots(2, 1, figsize=(3.5, 3.5 * 2 * 0.51), sharex=True, sharey=True)\n",
    "\n",
    "ax = axs[0]\n",
    "cc = ax.pcolormesh(a, lam, np.log10(k_abs), vmin=-5, vmax=5, rasterized=True)\n",
    "cb = plt.colorbar(cc, ax=ax, extend='both', shrink=0.95, pad=0.02)\n",
    "cb.set_label(r'$\\log_{10} \\, \\kappa_\\nu^\\mathrm{abs} \\, [\\mathrm{cm}^2/\\mathrm{g}$]')\n",
    "\n",
    "ax = axs[1]\n",
    "cc = ax.pcolormesh(a, lam, np.log10(k_sca), vmin=-5, vmax=5, rasterized=True)\n",
    "cb = plt.colorbar(cc, ax=ax, extend='both', shrink=0.95, pad=0.02)\n",
    "cb.set_label(r'$\\log_{10} \\, \\kappa^\\mathrm{sca}_\\nu \\, [\\mathrm{cm}^2/\\mathrm{g}$]')\n",
    "\n",
    "for ax in axs:\n",
    "    ax.set_xscale('log')\n",
    "    ax.set_yscale('log')\n",
    "    ax.set_ylabel('$\\lambda$ [cm]')\n",
    "\n",
    "axs[0].get_yticklabels()[1].set_visible(False)\n",
    "axs[1].set_xlabel('$a$ [cm]')\n",
    "\n",
    "f.subplots_adjust(\n",
    "    left=0.15,  right=0.99,\n",
    "    bottom=0.11, top=0.96,\n",
    "    hspace=0)\n",
    "f.savefig('../figures/fig3_opacity.pdf', dpi=300)"
   ]
  },
  {
   "cell_type": "markdown",
   "metadata": {},
   "source": [
    "## Figure 4: Default Size Averaging"
   ]
  },
  {
   "cell_type": "code",
   "execution_count": null,
   "metadata": {},
   "outputs": [],
   "source": [
    "d      = np.load('data/default_opacities_smooth.npz')\n",
    "a      = d['a']\n",
    "lam    = d['lam']\n",
    "k_abs  = d['k_abs']\n",
    "k_sca  = d['k_sca']"
   ]
  },
  {
   "cell_type": "code",
   "execution_count": null,
   "metadata": {},
   "outputs": [],
   "source": [
    "lam_avg = [0.1, 0.3]\n",
    "q       = [3.5, 2.5]\n",
    "res     = [opacity.size_average_opacity(lam_avg, a, lam, k_abs.T, k_sca.T, q=_q, plot=False) for _q in q]"
   ]
  },
  {
   "cell_type": "code",
   "execution_count": null,
   "metadata": {},
   "outputs": [],
   "source": [
    "f, axs = plt.subplots(2, 1, figsize=(3.5, 3.5 * 2 * 0.60), sharex=True)\n",
    "i_lam = 0\n",
    "\n",
    "for _res,_q in zip(res,q):\n",
    "    l, = axs[0].loglog(a, _res['ka'][i_lam], '-', label='$q$ = {}, absorption'.format(_q))\n",
    "    axs[0].loglog(a, _res['ks'][i_lam], '--', label='$q$ = {}, scattering'.format(_q), c=l.get_color())\n",
    "    \n",
    "    axs[1].plot(a, _res['beta'], '-', label='$q$ = {}'.format(_q), c=l.get_color())\n",
    "    \n",
    "axs[0].set_ylabel('$\\kappa_\\mathrm{{{:.0f}\\,mm}}$ [cm$^2$/g]'.format(10 * lam_avg[i_lam]))\n",
    "axs[1].set_ylabel(r'$\\beta_\\mathrm{{{:.0f}-{:.0f}\\,mm}}$'.format(10 * lam_avg[0], 10 * lam_avg[1]))\n",
    "axs[1].set_xlabel(r'$a_\\mathrm{max}$ [cm]')\n",
    "    \n",
    "axs[0].legend(fontsize='x-small', loc=2)\n",
    "axs[1].legend(fontsize='x-small', loc=2)\n",
    "axs[0].set_ylim(1e-2, 1e2)\n",
    "axs[1].set_ylim(0, 3.6)\n",
    "axs[1].set_xlim(1e-4, 1e2)\n",
    "\n",
    "f.subplots_adjust(\n",
    "    left=0.13, right=0.97,\n",
    "    bottom=0.09, top=0.98,\n",
    "    wspace=0.1, hspace=0.05)\n",
    "\n",
    "f.savefig('../figures/fig4_size_average.pdf')"
   ]
  },
  {
   "cell_type": "markdown",
   "metadata": {},
   "source": [
    "## Figure 5 & 6: Size Averaged $\\lambda$ dependence, Size Distributions"
   ]
  },
  {
   "cell_type": "code",
   "execution_count": null,
   "metadata": {},
   "outputs": [],
   "source": [
    "d      = np.load('data/default_opacities_smooth.npz')\n",
    "a      = d['a']\n",
    "lam    = d['lam']\n",
    "k_abs  = d['k_abs']\n",
    "k_sca  = d['k_sca']"
   ]
  },
  {
   "cell_type": "code",
   "execution_count": null,
   "metadata": {},
   "outputs": [],
   "source": [
    "# Download one of the Weingartner & Draine 2001 dust models for comparison\n",
    "\n",
    "filename = 'kext_albedo_WD_MW_3.1_60'\n",
    "if not os.path.isfile(os.path.join('data', filename)):\n",
    "    from urllib.request import urlretrieve\n",
    "    print('Downloading file \\'{}\\' ... '.format(filename), end='')\n",
    "    urlretrieve(\n",
    "        'ftp://ftp.astro.princeton.edu/draine/dust/mix/{}'.format(filename),\n",
    "        filename=os.path.join('data', filename))\n",
    "    print('Done!')\n",
    "\n",
    "with open(os.path.join('data', filename)) as f:\n",
    "    while not f.readline().startswith('--------'):\n",
    "        pass\n",
    "    lam_dr,_,_,_,k_dr = np.loadtxt(f).T"
   ]
  },
  {
   "cell_type": "code",
   "execution_count": null,
   "metadata": {},
   "outputs": [],
   "source": [
    "# a 1g-normalized size distribution (bin-integrated) up to 1 mm\n",
    "\n",
    "s = a**0.5\n",
    "s[a > 0.1] = 0\n",
    "s= s / s.sum()\n",
    "\n",
    "# size average the absorption opacities\n",
    "\n",
    "k_powerlaw  = (k_abs.T * s[:,None]).sum(0)"
   ]
  },
  {
   "cell_type": "markdown",
   "metadata": {},
   "source": [
    "Create a coagulation-fragmentation size distribution with similar upper size limit."
   ]
  },
  {
   "cell_type": "code",
   "execution_count": null,
   "metadata": {},
   "outputs": [],
   "source": [
    "r = c.au.cgs.value          # position in the disk in cm\n",
    "T = 200.                    # temperature in K\n",
    "sigma_g = 200.              # gas surface density [g/cm^2]\n",
    "d2g = 0.01                  # dust-to-gas ratio\n",
    "rho_s = 1.6686              # material density [g/cm^3]\n",
    "M_star = c.M_sun.cgs.value  # stellar mass [g]\n",
    "v_frag = 100.               # fragmentation velocity [cm/s]\n",
    "alpha = 4e-4                # turbulence parameter\n",
    "\n",
    "m = 4 * np.pi / 3 * rho_s * a**3  # mass grid\n",
    "\n",
    "# create the size distribution, FIRST: the fortran code\n",
    "\n",
    "fit, a_01, a_12, a_l, a_p, a_r, a_sett = opacity.distribution(1.8, T, alpha, sigma_g, sigma_g * d2g, rho_s, m, a, M_star, r, v_frag)\n",
    "\n",
    "# SECOND: a simplified version. Need to convert to bin-integrated values.\n",
    "\n",
    "fit2, a_f = aux.get_new_fit(T, a, r=r, sigma_g=sigma_g, d2g=d2g, rho_s=rho_s, M_star=M_star, v_frag=v_frag, alpha=alpha)\n",
    "fit2 = fit2 * np.diff(np.hstack((a[0]**2 / a[1], a)))\n",
    "fit2 = fit2 / fit2.sum() * sigma_g * d2g\n",
    "\n",
    "# plot the size distribution\n",
    "\n",
    "fig, ax = plt.subplots(figsize=(3.5, 3.5 * 0.66))\n",
    "ax.loglog(a, s * sigma_g * d2g, label='power-law distribution')\n",
    "ax.loglog(a, fit, label='B11')\n",
    "ax.loglog(a, fit2, label='B11 $-$ simplified')\n",
    "ax.set_xlim(1e-5, 2e-1)\n",
    "ax.set_ylim(1e-4, 2e-1)\n",
    "ax.set_xlabel('particle size [cm]')\n",
    "ax.set_ylabel('$\\sigma$ [g cm$^{-2}$]')\n",
    "ax.legend(fontsize='small')\n",
    "\n",
    "fig.subplots_adjust(\n",
    "    bottom=0.17, top=0.95,\n",
    "    left=0.14, right=0.97\n",
    "    )\n",
    "fig.savefig('../figures/fig5_size_distri.pdf')"
   ]
  },
  {
   "cell_type": "code",
   "execution_count": null,
   "metadata": {},
   "outputs": [],
   "source": [
    "# size average the absorption opacities\n",
    "s2 = fit / fit.sum()\n",
    "k_fit  = (k_abs.T * s2[:,None]).sum(0)\n",
    "\n",
    "s3 = aux.get_new_fit(T, a)[0]\n",
    "s3 *= a\n",
    "s3 = s3 / s3.sum()\n",
    "k_fit2  = (k_abs.T * s3[:,None]).sum(0)"
   ]
  },
  {
   "cell_type": "code",
   "execution_count": null,
   "metadata": {},
   "outputs": [],
   "source": [
    "# where to measure the reference value\n",
    "lam_obs = 0.087\n",
    "\n",
    "# load the D'Alessio opacity\n",
    "d2g = sum([0.0056, 0.0034, 0.000768, 0.0041])\n",
    "data_d01 = np.loadtxt('data/kappa_D01_T100K_p3.5_amax1mm.csv')\n",
    "lam_d01 = 10.**data_d01[:,0] * 1e-4\n",
    "kap_d01 = 10.**(data_d01[:,1]) / d2g"
   ]
  },
  {
   "cell_type": "code",
   "execution_count": null,
   "metadata": {},
   "outputs": [],
   "source": [
    "# the Beckwith 1990 law\n",
    "\n",
    "kb = 3.5 * (lam / 0.087)**(-1)  # Beckwith 1990\n",
    "\n",
    "# the opacities from Andrews et al. 2009\n",
    "\n",
    "la, ka = np.loadtxt('data/andrews2009.dat').T\n",
    "\n",
    "# now the plot\n",
    "\n",
    "f, ax = plt.subplots(figsize=(3.5, 3.5 * 0.66))\n",
    "\n",
    "ax.loglog(1e-4*lam_dr, k_dr,       'k',   zorder=-100, alpha=0.5, label='Weingartner & Draine 2001')\n",
    "ax.loglog(lam,         kb,         'k--', zorder=-100, alpha=0.5, label='Beckwith et al. 1990')\n",
    "ax.loglog(1e-4*la,     ka,         'k--', zorder=-100, alpha=1.0, label='Andrews et al. 2009')\n",
    "ax.loglog(lam_d01,     kap_d01,    'k:',  zorder=-100, alpha=1.0, label='D\\'Alessio et al. 2001')\n",
    "l1, = ax.loglog(lam,   k_powerlaw,        zorder=-100, alpha=1.0, label='DSHARP, power-law')\n",
    "l2, = ax.loglog(lam,   k_fit,             zorder=-100, alpha=1.0, label='DSHARP, B11 fit', ls='--', color=l1.get_color())\n",
    "l2, = ax.loglog(lam,   k_fit2,             zorder=-100, alpha=1.0, label='DSHARP, B11 simple fit', ls=':', color=l1.get_color())\n",
    "\n",
    "ax.legend(loc=3, fontsize='xx-small').get_frame().set_edgecolor('none')\n",
    "ax.set_xlim(1e-5,1e0)\n",
    "ax.set_ylim(1e-2,1e5)\n",
    "ax.set_xlabel('$\\lambda$ [cm]')\n",
    "ax.set_ylabel(r'$\\kappa^\\mathrm{abs,tot}_\\nu$ [cm$^2$/g]')\n",
    "\n",
    "f.subplots_adjust(\n",
    "    bottom=0.171, top=0.94,\n",
    "    left=0.15, right=0.97)\n",
    "\n",
    "plt.savefig('../figures/fig6_comparison.pdf')"
   ]
  },
  {
   "cell_type": "markdown",
   "metadata": {},
   "source": [
    "## Fig. 7: comparison of the size distributions"
   ]
  },
  {
   "cell_type": "code",
   "execution_count": null,
   "metadata": {},
   "outputs": [],
   "source": [
    "d      = np.load('data/default_opacities_smooth.npz')\n",
    "a      = d['a']\n",
    "gsca   = d['g'].T\n",
    "lam    = d['lam']\n",
    "k_abs  = d['k_abs']\n",
    "k_sca  = d['k_sca']"
   ]
  },
  {
   "cell_type": "code",
   "execution_count": null,
   "metadata": {},
   "outputs": [],
   "source": [
    "r      = c.au.cgs.value                # position in the disk in cm\n",
    "TEMP   = [100, 200., 500]              # temperature in K\n",
    "SIG_G  = [100, 200., 500]              # gas surface density [g/cm^2]\n",
    "d2g    = 0.01                          # dust-to-gas ratio\n",
    "rho_s  = 1.6686                        # material density [g/cm^3]\n",
    "M_star = c.M_sun.cgs.value             # stellar mass [g]\n",
    "V_FRAG = [100., 1000, 2000]            # fragmentation velocity [cm/s]\n",
    "ALPHA  = [1e-4, 1e-3, 1e-2]            # turbulence parameter\n",
    "m      = 4 * np.pi / 3 * rho_s * a**3  # mass grid\n",
    "\n",
    "params = aux.permutate_fiducial([TEMP, SIG_G, V_FRAG, ALPHA])\n",
    "labels = [r'T = {:g} K', '$\\Sigma_\\mathrm{{g}} = {:g}$ g/cm$^2$', '$v_\\mathrm{{frag}}$ = {:g} m/s', r'$\\alpha = 10^{{{:g}}}$']\n",
    "\n",
    "\n",
    "f, axs = plt.subplots(4, 1, figsize=(3.5, 4 * 3.5 * 0.575), sharex=True, sharey=True)\n",
    "axs = axs.flat\n",
    "\n",
    "\n",
    "for i_param in range(len(params[0])):\n",
    "    ax = axs[i_param]\n",
    "    \n",
    "    params_slice = [params[-1], params[2 * i_param], params[2 * i_param + 1]]\n",
    "    \n",
    "    params_slice = sorted(params_slice, key = lambda o: o[i_param])\n",
    "    \n",
    "    for values in params_slice:\n",
    "        \n",
    "        T, sig_g, v_frag, alpha = values\n",
    "\n",
    "        # create the size distribution, FIRST: the fortran code\n",
    "\n",
    "        fit, a_01, a_12, a_l, a_p, a_r, a_sett = opacity.distribution(1.8, T, alpha, sig_g, sig_g * d2g, rho_s, m, a, M_star, r, v_frag)\n",
    "\n",
    "        # SECOND: a simplified version. Need to convert to bin-integrated values.\n",
    "\n",
    "        fit2, a_f = aux.get_new_fit(T, a, r=r, sigma_g=sig_g, d2g=d2g, rho_s=rho_s, M_star=M_star, v_frag=v_frag, alpha=alpha)\n",
    "        fit2 = fit2 * np.diff(np.hstack((a[0]**2 / a[1], a)))\n",
    "        fit2 = fit2 / fit2.sum() * sig_g * d2g\n",
    "        \n",
    "        # plotting\n",
    "        \n",
    "        val = values[i_param]\n",
    "        if i_param==2:\n",
    "            val /=100\n",
    "        if i_param==3:\n",
    "            val = np.log10(val)\n",
    "        \n",
    "        l1, = ax.loglog(a, fit, label=labels[i_param].format(val))\n",
    "        l2, = ax.loglog(a, fit2, '--', c=l1.get_color())\n",
    "        \n",
    "    ax.loglog([], [], 'k--', label='simple fit')\n",
    "    ax.legend(fontsize='x-small', loc=2)\n",
    "    ax.set_ylabel('$\\sigma$ [g cm$^{-2}$]')\n",
    "        \n",
    "ax.set_xlim(1e-5, 2e2)\n",
    "ax.set_ylim(6e-5, 2e-1)\n",
    "ax.set_xlabel('particle size [cm]')\n",
    "\n",
    "f.subplots_adjust(\n",
    "    bottom=0.05, top=0.98,\n",
    "    left=0.14, right=0.97,\n",
    "    hspace=0.05\n",
    "    )\n",
    "\n",
    "f.savefig('../figures/fig7_distri_panels.pdf')"
   ]
  },
  {
   "cell_type": "markdown",
   "metadata": {},
   "source": [
    "# Fig. 8: Mean Opacities with fit distributions"
   ]
  },
  {
   "cell_type": "code",
   "execution_count": null,
   "metadata": {},
   "outputs": [],
   "source": [
    "d      = np.load('data/default_opacities_smooth.npz')\n",
    "a      = d['a']\n",
    "gsca   = d['g'].T\n",
    "lam    = d['lam']\n",
    "k_abs  = d['k_abs']\n",
    "k_sca  = d['k_sca']"
   ]
  },
  {
   "cell_type": "code",
   "execution_count": null,
   "metadata": {},
   "outputs": [],
   "source": [
    "# define temperature and wavelength arrays\n",
    "\n",
    "T_array = np.logspace(0, np.log10(1500), 250)\n",
    "nu = c.c.cgs.value / lam\n",
    "\n",
    "# calculate the planck function and their derivatives for all those temperatures and wavelength\n",
    "\n",
    "Bnu    = np.array([aux.planck_B_nu(nu, T) for T in T_array])\n",
    "dBnudT = np.array([aux.planck_dBnu_dT(nu, T) for T in T_array])"
   ]
  },
  {
   "cell_type": "markdown",
   "metadata": {},
   "source": [
    "## Calculate mean opacities for all temperatures\n",
    "\n",
    "For the Rosseland Mean, we need the *extinction opacity*\n",
    "\n",
    "$$\n",
    "\\kappa_\\nu^\\mathrm{ext}(a) = \\kappa_\\nu^{abs}(a) + (1-g)\\,\\kappa_\\nu^{sca}(a)\n",
    "$$\n",
    "\n",
    "then the total opacity of the size distribution is given by\n",
    "\n",
    "$$\n",
    "\\kappa_\\nu^\\mathrm{abs,tot} = \\frac{\\int_0^{a_\\mathrm{max}} n(a)\\,m\\,\\kappa_\\nu^\\mathrm{abs}(a) \\,\\mathrm{d}a}{\\int_0^{a_\\mathrm{max}} n(a)\\,m \\,\\mathrm{d}a}\n",
    "$$\n",
    "\n",
    "The Planck mean opacity is \n",
    "\n",
    "$$\n",
    "\\bar \\kappa_\\mathrm{P}(T) = \\frac{\\int_0^\\infty \\kappa_\\nu^\\mathrm{abs,tot}\\, B_\\nu(T)\\,\\mathrm{d}\\nu}{\\int_0^\\infty  B_\\nu(T)\\,\\mathrm{d}\\nu}\n",
    "$$\n",
    "\n",
    "and the Rosseland mean opacity is\n",
    "\n",
    "$$\n",
    "\\bar \\kappa_\\mathrm{R}(T) = \\left( \\frac{\\int_0^\\infty \\frac{1}{\\kappa_\\nu^\\mathrm{ext,tot}} \\, \\frac{\\mathrm{d}B_\\nu(T)}{\\mathrm{d}T}\\,\\mathrm{d}\\nu}{\\int_0^\\infty  \\frac{\\mathrm{d}B_\\nu(T)}{\\mathrm{d}T}\\,\\mathrm{d}\\nu}\\right)^{-1}\n",
    "$$"
   ]
  },
  {
   "cell_type": "code",
   "execution_count": null,
   "metadata": {},
   "outputs": [],
   "source": [
    "k_ext = k_abs + (1 - gsca) * k_sca"
   ]
  },
  {
   "cell_type": "code",
   "execution_count": null,
   "metadata": {},
   "outputs": [],
   "source": [
    "q = 3.5\n",
    "amax = 0.1\n",
    "power_law = a**(4 - q)\n",
    "power_law[a > amax] = 0\n",
    "power_law = power_law / power_law.sum()\n",
    "\n",
    "fits = np.zeros([len(T_array), len(a)])\n",
    "\n",
    "k_P_p = np.zeros_like(T_array)\n",
    "k_P_f = np.zeros_like(T_array)\n",
    "k_R_p = np.zeros_like(T_array)\n",
    "k_R_f = np.zeros_like(T_array)\n",
    "\n",
    "# for each temperature ...\n",
    "\n",
    "for it, T in enumerate(T_array):\n",
    "    \n",
    "    # get the size distribution fit\n",
    "    \n",
    "    f = aux.get_fit(T, a)\n",
    "    f = f / f.sum()    \n",
    "    fits[it, :] = f\n",
    "    \n",
    "    # sum the EXTINCTION opacity\n",
    "    \n",
    "    k_abs_p = (k_abs * power_law[None, :]).sum(1)\n",
    "    k_abs_f = (k_abs * f[None, :]).sum(1)\n",
    "    \n",
    "    # sum the EXTINCTION opacity\n",
    "    \n",
    "    k_ext_p = (k_ext * power_law[None, :]).sum(1)\n",
    "    k_ext_f = (k_ext * f[None, :]).sum(1)\n",
    "    \n",
    "    # calculate Planck opacity for the fit and the power-law\n",
    "    \n",
    "    B   = np.trapz(Bnu[it, :], x=nu)\n",
    "    k_P_p[it] = np.trapz(Bnu[it, :] * k_abs_p, x=nu) / B\n",
    "    k_P_f[it] = np.trapz(Bnu[it, :] * k_abs_f, x=nu) / B\n",
    "    \n",
    "    # calculate Rosseland opacity for the fit and the power-law\n",
    "    \n",
    "    B   = np.trapz(dBnudT[it, :], x=nu)\n",
    "    k_R_p[it] = B / np.trapz(dBnudT[it, :] / k_ext_p, x=nu)\n",
    "    k_R_f[it] = B / np.trapz(dBnudT[it, :] / k_ext_f, x=nu)"
   ]
  },
  {
   "cell_type": "markdown",
   "metadata": {},
   "source": [
    "#### The spline fit to one of the curves"
   ]
  },
  {
   "cell_type": "code",
   "execution_count": null,
   "metadata": {},
   "outputs": [],
   "source": [
    "from scipy.interpolate import LSQUnivariateSpline, BSpline, splev\n",
    "\n",
    "k = 2 # order of the spline\n",
    "s1 = LSQUnivariateSpline(np.log10(T_array), np.log10(k_P_f), [0.5, 1, 2, 2.5, 3], k=k)\n",
    "\n",
    "knots = s1.get_knots()\n",
    "knots = k*[knots[0]] + list(knots) + k*[knots[-1]]\n",
    "coeff = s1.get_coeffs()\n",
    "\n",
    "print('knots        = '+ ', '.join(['{:6.3g}'.format(_k) for _k in knots]))\n",
    "print('coefficients = '+ ', '.join(['{:6.3g}'.format(_k) for _k in coeff]))\n",
    "\n",
    "s2 = BSpline(knots, coeff, k)"
   ]
  },
  {
   "cell_type": "markdown",
   "metadata": {},
   "source": [
    "#### Do the plot"
   ]
  },
  {
   "cell_type": "code",
   "execution_count": null,
   "metadata": {},
   "outputs": [],
   "source": [
    "f, ax = plt.subplots(figsize=(3.5, 3.5 * 0.65))\n",
    "l1, = ax.loglog(T_array, k_P_p, label='Planck mean, power-law')\n",
    "l2, = ax.loglog(T_array, k_R_p, label='Rosseland mean, power-law')\n",
    "l3, = ax.loglog(T_array, k_P_f, '--', c=l1.get_color(), label='Planck mean, B11')\n",
    "l4, = ax.loglog(T_array, k_R_f, '--', c=l2.get_color(), label='Rosseland mean, B11')\n",
    "\n",
    "#ax.loglog(T_array, 10.**(s2(np.log10(T_array))), 'k--', alpha=0.5)\n",
    "\n",
    "ax.legend(fontsize='small')\n",
    "ax.set_xlabel('$T$ [K]')\n",
    "ax.set_ylabel(r'$\\bar\\kappa$ [cm$^2$/g]')\n",
    "\n",
    "f.subplots_adjust(\n",
    "    left=0.14, right=0.98,\n",
    "    bottom=0.17, top=0.97\n",
    "    )\n",
    "f.savefig('../figures/fig8_mean_opacities.pdf')"
   ]
  }
 ],
 "metadata": {
  "kernelspec": {
   "display_name": "Python 3",
   "language": "python",
   "name": "python3"
  },
  "language_info": {
   "codemirror_mode": {
    "name": "ipython",
    "version": 3
   },
   "file_extension": ".py",
   "mimetype": "text/x-python",
   "name": "python",
   "nbconvert_exporter": "python",
   "pygments_lexer": "ipython3",
   "version": "3.6.5"
  }
 },
 "nbformat": 4,
 "nbformat_minor": 2
}
