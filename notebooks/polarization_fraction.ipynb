{
 "cells": [
  {
   "cell_type": "markdown",
   "metadata": {},
   "source": [
    "# Calculate Polarization Fraction for DSHARP opacities"
   ]
  },
  {
   "cell_type": "markdown",
   "metadata": {},
   "source": [
    "### Conventions & Definitions"
   ]
  },
  {
   "cell_type": "markdown",
   "metadata": {},
   "source": [
    "The phase function is defined such that:\n",
    "$$\\Phi(\\mu) = \\Phi(\\cos\\theta) = \\frac{4\\pi}{\\kappa_\\mathrm{sca}} Z_{11}(\\theta)$$"
   ]
  },
  {
   "cell_type": "markdown",
   "metadata": {},
   "source": [
    "The phase function averaged over the solid angle should be normalized\n",
    "$$\\frac{1}{4\\pi}\\int\\Phi(\\mu)\\mathrm{d}\\mu \\stackrel{!}{=} 1$$"
   ]
  },
  {
   "cell_type": "markdown",
   "metadata": {},
   "source": [
    "Polarization fraction $P$ (90 degree) and Albedo $\\omega$ are \n",
    "\\begin{align}\n",
    "P &= \\left.\\frac{Z_{12,\\mathrm{eff}}}{Z_{11,\\mathrm{eff}}}\\right|_{90^\\circ}\\\\\n",
    "\\omega &= \\frac{\\kappa_\\mathrm{sca}}{\\kappa_\\mathrm{sca}+\\kappa_\\mathrm{abs}}\n",
    "\\end{align}"
   ]
  },
  {
   "cell_type": "markdown",
   "metadata": {},
   "source": [
    "Convention used in RADMC3D and also Kataoka et al. 2015 mostly follows Bohren & Huffman 1983, see also RADMC-3D manual, shown here for reference\n",
    "\n",
    "\\begin{align}\n",
    "\\begin{pmatrix}\n",
    "I_s\\\\\n",
    "Q_s\\\\\n",
    "U_s\\\\\n",
    "V_s\n",
    "\\end{pmatrix}\n",
    "&=\n",
    "\\frac{m}{a^2}\n",
    "\\begin{pmatrix}\n",
    "Z_{11} & Z_{12} & 0 & 0 \\\\\n",
    "Z_{12} & Z_{11} & 0 & 0 \\\\\n",
    "0 & 0 & Z_{33} & Z_{34} \\\\\n",
    "0 & 0 & -Z_{34} & Z_{33} \\\\\n",
    "\\end{pmatrix}\n",
    "\\begin{pmatrix}\n",
    "I_i\\\\\n",
    "Q_i\\\\\n",
    "U_i\\\\\n",
    "V_i\n",
    "\\end{pmatrix}\\\\\n",
    "\\kappa_\\mathrm{sca} &= \\oint Z_{11}(a,\\theta)\\,\\mathrm{d}\\Omega \\\\\n",
    "Z_{11,\\mathrm{eff}}(\\theta) &= \\frac{\\int_{a_\\mathrm{min}}^{a_\\mathrm{max}}\\, Z_{11}(a,\\theta)\\,n(a)\\,\\mathrm{da}}{  \n",
    "\\int_{a_\\mathrm{min}}^{a_\\mathrm{max}}\\,n(a)\\,\\mathrm{da}} \\\\\n",
    "g &= \\frac{2\\pi}{\\kappa_\\mathrm{sca}} \\int_{-1}^1 \\, Z_{11}(\\mu)\\,\\mu\\,\\mathrm{d}\\mu \\\\\n",
    "S_{11} &= \\frac{1}{2}\\left(\\left|S_{1}\\right|^2 + \\left|S_{2}\\right|^2\\right) \\\\\n",
    "S_{12} &= \\frac{1}{2}\\left(\\left|S_{2}\\right|^2 - \\left|S_{1}\\right|^2\\right) \\\\\n",
    "S_{33} &= \\frac{1}{2}\\left(S_2^*\\,S_1 + S_2\\,S_1^*\\right)\\\\\n",
    "S_{34} &= i\\,\\frac{1}{2} \\left(S_2^*\\,S_1 - S_2\\,S_1^*\\right) \\\\\n",
    "\\Phi(\\theta) &= \\frac{1}{\\sigma_\\mathrm{sca}}\\,S_{11}(\\cos\\theta) \\\\\n",
    "\\sigma &= \\kappa\\,m \\\\\n",
    "Z_{ij,\\mathrm{RADMC-3D}} &= \\frac{S_{ij}}{k^2\\,m} \\\\\n",
    "k &= \\frac{2\\pi}{\\lambda}\\\\\n",
    "\\Rightarrow Z_{ij} &= S_{ij} \\frac{\\lambda^2}{4\\,\\pi^2\\,m}\n",
    "\\end{align}"
   ]
  },
  {
   "cell_type": "markdown",
   "metadata": {},
   "source": [
    "### Calculation"
   ]
  },
  {
   "cell_type": "code",
   "execution_count": 1,
   "metadata": {},
   "outputs": [],
   "source": [
    "import numpy as np\n",
    "import matplotlib.pyplot as plt\n",
    "import dsharp_opac as do\n",
    "%matplotlib inline"
   ]
  },
  {
   "cell_type": "markdown",
   "metadata": {},
   "source": [
    "Get optical constants for the DSHARP mix"
   ]
  },
  {
   "cell_type": "code",
   "execution_count": 2,
   "metadata": {},
   "outputs": [
    {
     "name": "stdout",
     "output_type": "stream",
     "text": [
      "Please cite Warren & Brandt (2008) when using these optical constants\n",
      "Please cite Draine 2003 when using these optical constants\n",
      "Reading opacities from troilitek\n",
      "Please cite Henning & Stognienko (1996) when using these optical constants\n",
      "Reading opacities from organicsk\n",
      "Please cite Henning & Stognienko (1996) when using these optical constants\n",
      "| material                            | volume fractions | mass fractions |\n",
      "|-------------------------------------|------------------|----------------|\n",
      "| Water Ice (Warren & Brandt 2008)    | 0.3642           | 0.2            |\n",
      "| Astronomical Silicates (Draine 2003)| 0.167            | 0.329          |\n",
      "| Troilite (Henning)                  | 0.02578          | 0.07434        |\n",
      "| Organics (Henning)                  | 0.443            | 0.3966         |\n"
     ]
    }
   ],
   "source": [
    "oc, rho_s = do.get_dsharp_mix()"
   ]
  },
  {
   "cell_type": "markdown",
   "metadata": {},
   "source": [
    "Define size, mass, and wavelength grid and calculate the opacities. Here we picked a large number of angles. To just calculate $P_{90}$, this is not necessary, but when calculating the scattering matrix, we are doing a sanity check, if the integral over the angles reproduces the scattering opacity. With too few angles, this test would fail."
   ]
  },
  {
   "cell_type": "code",
   "execution_count": 3,
   "metadata": {},
   "outputs": [
    {
     "name": "stdout",
     "output_type": "stream",
     "text": [
      "Mie ... Done!\n"
     ]
    }
   ],
   "source": [
    "a   = np.logspace(-4, -1, 100)\n",
    "m   = 4 * np.pi / 3 * rho_s * a**3\n",
    "lam = np.array([0.087, 0.1, 0.13]) # np.logspace(-4, 0, 60)\n",
    "\n",
    "res = do.get_opacities(a, lam, rho_s, oc, extrapolate_large_grains=False, n_angle=100)\n",
    "\n",
    "k_abs = res['k_abs']\n",
    "k_sca = res['k_sca']\n",
    "S1    = res['S1']\n",
    "S2    = res['S2']\n",
    "theta = res['theta']\n",
    "\n",
    "# index where theta = 90 degree\n",
    "\n",
    "i90 = theta.searchsorted(90)"
   ]
  },
  {
   "cell_type": "markdown",
   "metadata": {},
   "source": [
    "Calculate the scattering matrix elements. We also pass the angles and the scattering opacity to perform the normalization test."
   ]
  },
  {
   "cell_type": "code",
   "execution_count": 4,
   "metadata": {},
   "outputs": [],
   "source": [
    "zscat = do.calculate_mueller_matrix(lam, m, S1, S2, theta=theta, k_sca=k_sca)['zscat']"
   ]
  },
  {
   "cell_type": "markdown",
   "metadata": {},
   "source": [
    "Size average the first two Müller matrix elements and calculate the polarization fraction at ${90}^\\circ$"
   ]
  },
  {
   "cell_type": "code",
   "execution_count": 5,
   "metadata": {},
   "outputs": [],
   "source": [
    "Z11eff = np.zeros([len(a), len(lam)])\n",
    "Z12eff = np.zeros_like(Z11eff)\n",
    "omega = np.zeros_like(Z11eff)\n",
    "\n",
    "# make a loop over the maximum particle size\n",
    "for ia, _a in enumerate(a):\n",
    "    \n",
    "    # make a normalized MRN distribution\n",
    "    \n",
    "    distri = a**0.5\n",
    "    distri[a > _a] = 0\n",
    "    distri /= distri.sum()\n",
    "    \n",
    "    # average the scattering matrix elements\n",
    "\n",
    "    Z11eff[ia] = np.sum(zscat[:, :, i90, 0] * distri[:, None], 0)\n",
    "    Z12eff[ia] = np.sum(zscat[:, :, i90, 1] * distri[:, None], 0)\n",
    "    \n",
    "    # average the opacities to get the average albedo\n",
    "    \n",
    "    k_a = np.sum(k_abs * distri[:, None], 0)\n",
    "    k_s = np.sum(k_sca * distri[:, None], 0)\n",
    "    omega[ia] = k_s / (k_a + k_s)\n",
    "    \n",
    "# calculate polarization fraction at 90 degree\n",
    "\n",
    "P = -Z12eff / Z11eff"
   ]
  },
  {
   "cell_type": "markdown",
   "metadata": {},
   "source": [
    "Plot the contributions like in Kataoka et al."
   ]
  },
  {
   "cell_type": "code",
   "execution_count": 6,
   "metadata": {},
   "outputs": [
    {
     "data": {
      "image/png": "[encoded data removed]",
      "text/plain": [
       "<Figure size 432x288 with 1 Axes>"
      ]
     },
     "metadata": {
      "needs_background": "light"
     },
     "output_type": "display_data"
    }
   ],
   "source": [
    "fig, ax = plt.subplots()\n",
    "\n",
    "for i,_lam in enumerate(lam):\n",
    "    line, = ax.semilogx(a, P[:, i],'--')\n",
    "    ax.semilogx(a, omega[:, i], ls=':', c=line.get_color())\n",
    "    ax.semilogx(a, P[:, i] * omega[:, i], ls='-', lw=2, c=line.get_color(), label=f'$\\lambda = {_lam * 10:2.2g}$  mm')\n",
    "    \n",
    "ax.set_xlim(1e-3, 1e-1)\n",
    "ax.set_xlabel('$a_{max}$ [cm]')\n",
    "ax.set_ylabel('$P, \\omega, P\\cdot\\omega$')\n",
    "ax.plot([],[],'k--', label='$P$')\n",
    "ax.plot([],[],'k:', label='$\\omega$')\n",
    "ax.plot([],[],'k-', label='$P\\cdot \\omega$')\n",
    "ax.legend().get_frame().set_alpha(0)\n",
    "fig.savefig('DSHARP_polarization.pdf', transparent=True)"
   ]
  }
 ],
 "metadata": {
  "kernelspec": {
   "display_name": "Python 3",
   "language": "python",
   "name": "python3"
  },
  "language_info": {
   "codemirror_mode": {
    "name": "ipython",
    "version": 3
   },
   "file_extension": ".py",
   "mimetype": "text/x-python",
   "name": "python",
   "nbconvert_exporter": "python",
   "pygments_lexer": "ipython3",
   "version": "3.6.6"
  }
 },
 "nbformat": 4,
 "nbformat_minor": 2
}
