{
 "cells": [
  {
   "cell_type": "markdown",
   "metadata": {},
   "source": [
    "## Fig. 7: comparison of the size distributions"
   ]
  },
  {
   "cell_type": "code",
   "execution_count": null,
   "metadata": {},
   "outputs": [],
   "source": [
    "%run header.py"
   ]
  },
  {
   "cell_type": "code",
   "execution_count": null,
   "metadata": {},
   "outputs": [],
   "source": [
    "d      = np.load(opacity.get_datafile('default_opacities_smooth.npz'))\n",
    "a      = d['a']\n",
    "gsca   = d['g']\n",
    "lam    = d['lam']\n",
    "k_abs  = d['k_abs']\n",
    "k_sca  = d['k_sca']"
   ]
  },
  {
   "cell_type": "code",
   "execution_count": null,
   "metadata": {},
   "outputs": [],
   "source": [
    "r      = c.au.cgs.value                # position in the disk in cm\n",
    "TEMP   = [100, 200., 500]              # temperature in K\n",
    "SIG_G  = [100, 200., 500]              # gas surface density [g/cm^2]\n",
    "d2g    = 0.01                          # dust-to-gas ratio\n",
    "rho_s  = 1.6686                        # material density [g/cm^3]\n",
    "M_star = c.M_sun.cgs.value             # stellar mass [g]\n",
    "V_FRAG = [100., 1000, 2000]            # fragmentation velocity [cm/s]\n",
    "ALPHA  = [1e-4, 1e-3, 1e-2]            # turbulence parameter\n",
    "m      = 4 * np.pi / 3 * rho_s * a**3  # mass grid\n",
    "\n",
    "params = aux.permutate_fiducial([TEMP, SIG_G, V_FRAG, ALPHA])\n",
    "labels = [r'T = {:g} K', '$\\Sigma_\\mathrm{{g}} = {:g}$ g/cm$^2$', '$v_\\mathrm{{frag}}$ = {:g} m/s', r'$\\alpha = 10^{{{:g}}}$']\n",
    "\n",
    "\n",
    "f, axs = plt.subplots(4, 1, figsize=(3.5, 4 * 3.5 * 0.575), sharex=True, sharey=True)\n",
    "axs = axs.flat\n",
    "\n",
    "\n",
    "for i_param in range(len(params[0])):\n",
    "    ax = axs[i_param]\n",
    "    \n",
    "    params_slice = [params[-1], params[2 * i_param], params[2 * i_param + 1]]\n",
    "    \n",
    "    params_slice = sorted(params_slice, key = lambda o: o[i_param])\n",
    "    \n",
    "    for values in params_slice:\n",
    "        \n",
    "        T, sig_g, v_frag, alpha = values\n",
    "\n",
    "        # create the size distribution, FIRST: the fortran code\n",
    "\n",
    "        fit, a_01, a_12, a_l, a_p, a_r, a_sett = opacity.distribution(1.8, T, alpha, sig_g, sig_g * d2g, rho_s, m, a, M_star, r, v_frag)\n",
    "\n",
    "        # SECOND: a simplified version. Need to convert to bin-integrated values.\n",
    "\n",
    "        fit2, a_f = opacity.get_B11S_fit(T, a, r=r, sigma_g=sig_g, d2g=d2g, rho_s=rho_s, M_star=M_star, v_frag=v_frag, alpha=alpha)\n",
    "        fit2 = fit2 * np.diff(np.hstack((a[0]**2 / a[1], a)))\n",
    "        fit2 = fit2 / fit2.sum() * sig_g * d2g\n",
    "        \n",
    "        # plotting\n",
    "        \n",
    "        val = values[i_param]\n",
    "        if i_param==2:\n",
    "            val /=100\n",
    "        if i_param==3:\n",
    "            val = np.log10(val)\n",
    "        \n",
    "        l1, = ax.loglog(a, fit, label=labels[i_param].format(val))\n",
    "        l2, = ax.loglog(a, fit2, '--', c=l1.get_color())\n",
    "        \n",
    "    ax.loglog([], [], 'k--', label='B11S')\n",
    "    ax.legend(fontsize='x-small', loc=2)\n",
    "    ax.set_ylabel('$\\sigma$ [g cm$^{-2}$]')\n",
    "        \n",
    "ax.set_xlim(1e-5, 2e2)\n",
    "ax.set_ylim(6e-5, 2e-1)\n",
    "ax.set_xlabel('particle size [cm]')\n",
    "\n",
    "f.subplots_adjust(\n",
    "    bottom=0.05, top=0.98,\n",
    "    left=0.14, right=0.97,\n",
    "    hspace=0.05\n",
    "    )\n",
    "\n",
    "f.savefig('figures/fig7_distri_panels.pdf')"
   ]
  }
 ],
 "metadata": {
  "kernelspec": {
   "display_name": "Python 3",
   "language": "python",
   "name": "python3"
  },
  "language_info": {
   "codemirror_mode": {
    "name": "ipython",
    "version": 3
   },
   "file_extension": ".py",
   "mimetype": "text/x-python",
   "name": "python",
   "nbconvert_exporter": "python",
   "pygments_lexer": "ipython3",
   "version": "3.6.6"
  }
 },
 "nbformat": 4,
 "nbformat_minor": 2
}
