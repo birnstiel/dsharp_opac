{
 "cells": [
  {
   "cell_type": "markdown",
   "metadata": {},
   "source": [
    "# Reproduce the porous opacities from Kataoka et al. 2014"
   ]
  },
  {
   "cell_type": "code",
   "execution_count": null,
   "metadata": {},
   "outputs": [],
   "source": [
    "import numpy as np\n",
    "import matplotlib.pyplot as plt\n",
    "import dsharp_opac as do\n",
    "%matplotlib inline"
   ]
  },
  {
   "cell_type": "markdown",
   "metadata": {},
   "source": [
    "Select the porosity values"
   ]
  },
  {
   "cell_type": "code",
   "execution_count": null,
   "metadata": {},
   "outputs": [],
   "source": [
    "porosities = [0, 0.9, 0.99]\n",
    "\n",
    "# select opacities:\n",
    "# - 'dsharp': the DHSHARP opacity mix\n",
    "# - 'kataoka': similar constants as Kataoka+2014\n",
    "# - 'kataoka_orig': digitized values from Kataoka+2014\n",
    "\n",
    "opac_type = 'kataoka_orig'"
   ]
  },
  {
   "cell_type": "markdown",
   "metadata": {},
   "source": [
    "Get optical constants for the DSHARP mix:"
   ]
  },
  {
   "cell_type": "code",
   "execution_count": null,
   "metadata": {},
   "outputs": [],
   "source": [
    "if opac_type == 'dsharp':\n",
    "    constants = [do.get_dsharp_mix(porosity=porosity) for porosity in porosities]"
   ]
  },
  {
   "cell_type": "markdown",
   "metadata": {},
   "source": [
    "Reproduce Kataoka 2014 opacities:"
   ]
  },
  {
   "cell_type": "code",
   "execution_count": null,
   "metadata": {},
   "outputs": [],
   "source": [
    "if opac_type == 'kataoka':\n",
    "\n",
    "    c0  = do.diel_vacuum()\n",
    "    c1  = do.diel_draine2003('astrosilicates')\n",
    "    c2  = do.diel_henning('organics', new=False)\n",
    "    c3  = do.diel_warren84()\n",
    "\n",
    "    c_array   = [c0,  c1,      c2,      c3]\n",
    "    m_fract   = [0,   2.64e-3, 3.53e-3, 5.55e-3]\n",
    "    densities = [0.0, 3.50,    1.50,    0.92]\n",
    "    vol_fract = [0.0, 0.08,    0.26,    0.66]\n",
    "\n",
    "    rho_s = (np.array(vol_fract)*densities).sum()\n",
    "\n",
    "    # Extrapolate the optical constants\n",
    "\n",
    "    c1.extrapolate_constants_up(0.05,1e5, kind='linear')\n",
    "    c2.extrapolate_constants_up(1, 1e5, kind='linear')\n",
    "    c3.extrapolate_constants_up(100, 1e5, kind='linear')\n",
    "\n",
    "    mix1 = do.diel_mixed(c_array, vol_fract, rule='Bruggeman')\n",
    "    \n",
    "    constants = [[do.diel_mixed([do.diel_vacuum(), mix1], [porosity, 1 - porosity], rule='Maxwell-Garnett'), rho_s * (1 - porosity)] for porosity in porosities]\n",
    "    \n",
    "    # compare to Kataoka\n",
    "    mix_k = do.diel_from_lnk_file(do.get_datafile('kataoka_mix.lnk'), headerlines=5)\n",
    "    mix_k.material_str = 'Kataoka et al. 2014'\n",
    "    \n",
    "    do.compare_nk([mix_k, mix1])"
   ]
  },
  {
   "cell_type": "markdown",
   "metadata": {},
   "source": [
    "Use the digitized optical constants. Note: we need to extrapolate to smaller sizes"
   ]
  },
  {
   "cell_type": "code",
   "execution_count": null,
   "metadata": {},
   "outputs": [],
   "source": [
    "if opac_type == 'kataoka_orig':\n",
    "    rho_s = 1.68 # value from paper, but should perhaps be 1.277 if vol. fractions and densities from paper are used\n",
    "    mix_k = do.diel_from_lnk_file(do.get_datafile('kataoka_mix.lnk'), headerlines=5)\n",
    "    mix_k.material_str = 'Kataoka et al. 2014'\n",
    "    \n",
    "    mix_ke = do.diel_from_lnk_file(do.get_datafile('kataoka_mix.lnk'), headerlines=5)\n",
    "    mix_ke.material_str = 'Kataoka et al. 2014'\n",
    "    mix_ke.extrapolate_constants_down(1e-5, 1.5e-4, kind='linear')\n",
    "\n",
    "    do.compare_nk([mix_k, mix_ke])\n",
    "    \n",
    "    \n",
    "    constants = [[do.diel_mixed([do.diel_vacuum(), mix_ke], [porosity, 1 - porosity], rule='Maxwell-Garnett'), rho_s * (1 - porosity)] for porosity in porosities]"
   ]
  },
  {
   "cell_type": "markdown",
   "metadata": {},
   "source": [
    "Use the digitiezed data from Kataoka paper."
   ]
  },
  {
   "cell_type": "markdown",
   "metadata": {},
   "source": [
    "Define size, mass, and wavelength grid. "
   ]
  },
  {
   "cell_type": "code",
   "execution_count": null,
   "metadata": {},
   "outputs": [],
   "source": [
    "a   = np.logspace(-5, 3, 200)\n",
    "lam = np.logspace(-5, 0, 300) # np.logspace(-4, 0, 60)"
   ]
  },
  {
   "cell_type": "markdown",
   "metadata": {},
   "source": [
    "Calculate the opacities"
   ]
  },
  {
   "cell_type": "code",
   "execution_count": null,
   "metadata": {},
   "outputs": [],
   "source": [
    "results = [do.get_opacities(a, lam, rho_s, oc, extrapolate_large_grains=True) for oc,rho_s in constants]"
   ]
  },
  {
   "cell_type": "markdown",
   "metadata": {},
   "source": [
    "### Reproduce [Kataoka et al. 2014, Fig. 2 b&d](https://www.aanda.org/articles/aa/full_html/2014/08/aa23199-13/F2.html)"
   ]
  },
  {
   "cell_type": "code",
   "execution_count": null,
   "metadata": {},
   "outputs": [],
   "source": [
    "kabs_kf2b = np.loadtxt(do.get_datafile('Kataoka2014-Fig2b-1e-5cm.csv'), delimiter=',')\n",
    "kabs_kf2d = np.loadtxt(do.get_datafile('Kataoka2014-Fig2d-1e-5cm.csv'), delimiter=',')\n",
    "\n",
    "\n",
    "fig, ax = plt.subplots(2, 1, figsize=(8, 12), sharex=True, sharey=True)\n",
    "a_plot = np.logspace(-5, -1, 5)\n",
    "\n",
    "ax = ax.ravel()\n",
    "\n",
    "i_res = 0\n",
    "for i in range(len(a_plot)):\n",
    "    if i == 0:\n",
    "        lw = 3\n",
    "    else:\n",
    "        lw = 1\n",
    "    ia = results[i_res]['a'].searchsorted(a_plot[i])\n",
    "    ax[0].loglog(results[i_res]['lam'], results[i_res]['k_abs'][ia, :], lw=lw, label='$f = $ {:g}, $a =$ {:.1e}'.format(1 - porosities[i_res], results[i_res]['a'][ia]))\n",
    "ax[0].loglog(kabs_kf2b[:, 0], kabs_kf2b[:, 1], 'k--', lw=1, label='Kataoka et al. 2014')\n",
    "    \n",
    "    \n",
    "a0 = 0.1e-4    \n",
    "for i, res in enumerate(results):\n",
    "    ia = res['a'].searchsorted(a0 / (1-porosities[i]))\n",
    "    ax[1].loglog(res['lam'], res['k_abs'][ia, :], label='$a = $ {:.1e}, $a\\cdot f = ${:.4g}'.format(res['a'][ia], res['a'][ia] * (1 - porosities[i])))\n",
    "ax[1].loglog(kabs_kf2d[:, 0], kabs_kf2d[:, 1], 'k--', lw=1, label='Kataoka et al. 2014')\n",
    "\n",
    "for _ax in ax:\n",
    "    _ax.legend().get_frame().set_alpha(0)\n",
    "    _ax.set_ylabel('$\\kappa_\\mathrm{abs}$ [cm$^2$ g$^{-1}$]')\n",
    "\n",
    "ax[0].set_xlim(1e-4, 1e1)\n",
    "ax[0].set_ylim(1e-4, 1e5)\n",
    "ax[1].set_xlabel('$\\lambda$ [cm]')\n",
    "\n",
    "fig.subplots_adjust(hspace=0.05)\n",
    "fig.savefig('Kataoka2014_F2b.pdf', transparent=True)"
   ]
  },
  {
   "cell_type": "markdown",
   "metadata": {},
   "source": [
    "### Size average and reproduce [Fig. 11](https://www.aanda.org/articles/aa/full_html/2014/08/aa23199-13/F11.html)"
   ]
  },
  {
   "cell_type": "markdown",
   "metadata": {},
   "source": [
    "Note: they use a size distribution of $n(a)\\propto a^{-2}$, not the usual MRN."
   ]
  },
  {
   "cell_type": "code",
   "execution_count": null,
   "metadata": {},
   "outputs": [],
   "source": [
    "averages = [do.size_average_opacity([0.1, 0.3], a, lam, res['k_abs'], res['k_sca'], q=2, plot=False) for res in results]"
   ]
  },
  {
   "cell_type": "code",
   "execution_count": null,
   "metadata": {},
   "outputs": [],
   "source": [
    "fig, ax = plt.subplots(1, 2, figsize=(12, 4), sharex=True)\n",
    "\n",
    "for i, avg in enumerate(averages):\n",
    "    ax[0].loglog(a * (1-porosities[i]), avg['ka'][0], label=f'p = {porosities[i]:.4g}')\n",
    "    ax[1].semilogx(a * (1-porosities[i]), avg['beta'], label=f'p = {porosities[i]:.4g}')\n",
    "    \n",
    "ax[0].set_xlim(1e-4, 1e3)\n",
    "ax[0].set_ylim(1e-2, 1e1)\n",
    "ax[0].set_ylabel(r'$\\kappa_\\mathrm{abs,1mm}$ [cm$^{2}$/g]')\n",
    "ax[1].set_ylabel(r'$\\beta$')\n",
    "ax[1].set_ylim(0, 4.2)\n",
    "\n",
    "for _ax in ax:\n",
    "    _ax.legend().get_frame().set_alpha(0)\n",
    "    _ax.grid()\n",
    "    _ax.set_xlabel(r'$\\left(a\\cdot f\\right)_\\mathrm{max}$ [cm]')\n",
    "\n",
    "\n",
    "fig.subplots_adjust(wspace=0.2);"
   ]
  }
 ],
 "metadata": {
  "kernelspec": {
   "display_name": "Python 3",
   "language": "python",
   "name": "python3"
  },
  "language_info": {
   "codemirror_mode": {
    "name": "ipython",
    "version": 3
   },
   "file_extension": ".py",
   "mimetype": "text/x-python",
   "name": "python",
   "nbconvert_exporter": "python",
   "pygments_lexer": "ipython3",
   "version": "3.7.3"
  }
 },
 "nbformat": 4,
 "nbformat_minor": 2
}
