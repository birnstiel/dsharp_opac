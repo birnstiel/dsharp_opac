{
 "cells": [
  {
   "cell_type": "markdown",
   "metadata": {},
   "source": [
    "# Figure 2: mixed optical constants"
   ]
  },
  {
   "cell_type": "code",
   "execution_count": null,
   "metadata": {},
   "outputs": [],
   "source": [
    "%run header.py"
   ]
  },
  {
   "cell_type": "code",
   "execution_count": null,
   "metadata": {},
   "outputs": [],
   "source": [
    "diel, rho_s = opacity.get_dsharp_mix(rule='Bruggeman')\n",
    "print('Average material density = {:.4f} g/cc'.format(rho_s))\n",
    "\n",
    "diel = diel.get_normal_object()\n",
    "\n",
    "f, ax = plt.subplots(figsize=(3.5, 3.5 * 0.615))\n",
    "\n",
    "\n",
    "lines = [ax.semilogx(diel._l, diel._n, '-', alpha=0.7, label='n')[0]]\n",
    "ax2 = ax.twinx()\n",
    "lines += [ax2.loglog(diel._l, diel._k, '--', alpha=0.7, label='k')[0]]\n",
    "\n",
    "# add legend to last panel\n",
    "ax.legend(lines, [l.get_label() for l in lines], loc=7, fontsize='small')\n",
    "\n",
    "ax.set_xlabel('wavelength [cm]')\n",
    "ax.set_ylabel('n')\n",
    "ax2.set_ylabel('k')\n",
    "ax.set_xlim(1e-5, 1e1)\n",
    "\n",
    "f.subplots_adjust(\n",
    "    bottom=0.18, top=0.96,\n",
    "    left=0.11, right=0.88\n",
    "    )\n",
    "\n",
    "f.savefig('figures/fig2_mix.pdf')"
   ]
  }
 ],
 "metadata": {
  "kernelspec": {
   "display_name": "Python 3",
   "language": "python",
   "name": "python3"
  },
  "language_info": {
   "codemirror_mode": {
    "name": "ipython",
    "version": 3
   },
   "file_extension": ".py",
   "mimetype": "text/x-python",
   "name": "python",
   "nbconvert_exporter": "python",
   "pygments_lexer": "ipython3",
   "version": "3.6.5"
  }
 },
 "nbformat": 4,
 "nbformat_minor": 2
}
