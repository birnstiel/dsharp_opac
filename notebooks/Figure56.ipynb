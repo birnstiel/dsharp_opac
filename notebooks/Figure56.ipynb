{
 "cells": [
  {
   "cell_type": "markdown",
   "metadata": {},
   "source": [
    "# Figure 5 & 6: Size Averaged $\\lambda$ dependence, Size Distributions"
   ]
  },
  {
   "cell_type": "code",
   "execution_count": null,
   "metadata": {},
   "outputs": [],
   "source": [
    "%run header.py"
   ]
  },
  {
   "cell_type": "code",
   "execution_count": null,
   "metadata": {},
   "outputs": [],
   "source": [
    "d      = np.load(opacity.get_datafile('default_opacities_smooth.npz'))\n",
    "a      = d['a']\n",
    "lam    = d['lam']\n",
    "k_abs  = d['k_abs']\n",
    "k_sca  = d['k_sca']"
   ]
  },
  {
   "cell_type": "code",
   "execution_count": null,
   "metadata": {},
   "outputs": [],
   "source": [
    "# Download one of the Weingartner & Draine 2001 dust models for comparison\n",
    "\n",
    "filename = 'kext_albedo_WD_MW_3.1_60'\n",
    "if not os.path.isfile(filename):\n",
    "    from urllib.request import urlretrieve\n",
    "    print('Downloading file \\'{}\\' ... '.format(filename), end='')\n",
    "    urlretrieve(\n",
    "        'ftp://ftp.astro.princeton.edu/draine/dust/mix/{}'.format(filename),\n",
    "        filename=filename)\n",
    "    print('Done!')\n",
    "\n",
    "with open(filename) as f:\n",
    "    while not f.readline().startswith('--------'):\n",
    "        pass\n",
    "    lam_dr,_,_,_,k_dr = np.loadtxt(f).T"
   ]
  },
  {
   "cell_type": "code",
   "execution_count": null,
   "metadata": {},
   "outputs": [],
   "source": [
    "# a 1g-normalized size distribution (bin-integrated) up to 1 mm\n",
    "\n",
    "s = a**0.5\n",
    "s[a > 0.1] = 0\n",
    "s= s / s.sum()\n",
    "\n",
    "# size average the absorption opacities\n",
    "\n",
    "k_powerlaw  = (k_abs * s[:,None]).sum(0)"
   ]
  },
  {
   "cell_type": "markdown",
   "metadata": {},
   "source": [
    "Create a coagulation-fragmentation size distribution with similar upper size limit."
   ]
  },
  {
   "cell_type": "code",
   "execution_count": null,
   "metadata": {},
   "outputs": [],
   "source": [
    "r = c.au.cgs.value          # position in the disk in cm\n",
    "T = 200.                    # temperature in K\n",
    "sigma_g = 200.              # gas surface density [g/cm^2]\n",
    "d2g = 0.01                  # dust-to-gas ratio\n",
    "rho_s = 1.6686              # material density [g/cm^3]\n",
    "M_star = c.M_sun.cgs.value  # stellar mass [g]\n",
    "v_frag = 100.               # fragmentation velocity [cm/s]\n",
    "alpha = 4e-4                # turbulence parameter\n",
    "\n",
    "m = 4 * np.pi / 3 * rho_s * a**3  # mass grid\n",
    "\n",
    "# create the size distribution, FIRST: the fortran code\n",
    "\n",
    "fit, a_01, a_12, a_l, a_p, a_r, a_sett = opacity.distribution(1.8, T, alpha, sigma_g, sigma_g * d2g, rho_s, m, a, M_star, r, v_frag)\n",
    "\n",
    "# SECOND: a simplified version. Need to convert to bin-integrated values.\n",
    "\n",
    "fit2, a_f = opacity.get_B11S_fit(T, a, r=r, sigma_g=sigma_g, d2g=d2g, rho_s=rho_s, M_star=M_star, v_frag=v_frag, alpha=alpha)\n",
    "fit2 = fit2 * np.diff(np.hstack((a[0]**2 / a[1], a)))\n",
    "fit2 = fit2 / fit2.sum() * sigma_g * d2g\n",
    "\n",
    "# plot the size distribution\n",
    "\n",
    "fig, ax = plt.subplots(figsize=(3.5, 3.5 * 0.66))\n",
    "ax.loglog(a, s * sigma_g * d2g, label='power-law distribution')\n",
    "ax.loglog(a, fit, label='B11')\n",
    "ax.loglog(a, fit2, label='B11S')\n",
    "ax.set_xlim(1e-5, 2e-1)\n",
    "ax.set_ylim(1e-4, 2e-1)\n",
    "ax.set_xlabel('particle size [cm]')\n",
    "ax.set_ylabel('$\\sigma$ [g cm$^{-2}$]')\n",
    "ax.legend(fontsize='small')\n",
    "\n",
    "fig.subplots_adjust(\n",
    "    bottom=0.17, top=0.95,\n",
    "    left=0.14, right=0.97\n",
    "    )\n",
    "fig.savefig('figures/fig5_size_distri.pdf')"
   ]
  },
  {
   "cell_type": "code",
   "execution_count": null,
   "metadata": {},
   "outputs": [],
   "source": [
    "# size average the absorption opacities\n",
    "s2 = fit / fit.sum()\n",
    "k_fit  = (k_abs * s2[:,None]).sum(0)\n",
    "\n",
    "s3 = opacity.get_B11S_fit(T, a)[0]\n",
    "s3 *= a\n",
    "s3 = s3 / s3.sum()\n",
    "k_fit2  = (k_abs * s3[:,None]).sum(0)"
   ]
  },
  {
   "cell_type": "code",
   "execution_count": null,
   "metadata": {},
   "outputs": [],
   "source": [
    "# where to measure the reference value\n",
    "lam_obs = 0.087\n",
    "\n",
    "# load the D'Alessio opacity\n",
    "d2g = sum([0.0056, 0.0034, 0.000768, 0.0041])\n",
    "data_d01 = np.loadtxt(opacity.get_datafile('kappa_D01_T100K_p3.5_amax1mm.csv'))\n",
    "lam_d01 = 10.**data_d01[:,0] * 1e-4\n",
    "kap_d01 = 10.**(data_d01[:,1]) / d2g"
   ]
  },
  {
   "cell_type": "code",
   "execution_count": null,
   "metadata": {},
   "outputs": [],
   "source": [
    "# the Beckwith 1990 law\n",
    "\n",
    "kb = 3.446 * (lam / 0.087)**(-1)  # Beckwith 1990\n",
    "\n",
    "# the opacities from Andrews et al. 2009\n",
    "\n",
    "la, ka = np.loadtxt(opacity.get_datafile('andrews2009.dat')).T\n",
    "\n",
    "# now the plot\n",
    "\n",
    "f, ax = plt.subplots(figsize=(7, 7 * 0.64))\n",
    "\n",
    "ax.loglog(1e-4*lam_dr, k_dr,       'k',   zorder=-100, alpha=0.5, label='Weingartner & Draine 2001')\n",
    "ax.loglog(lam,         kb,         'k--', zorder=-100, alpha=0.5, label='Beckwith et al. 1990')\n",
    "ax.loglog(1e-4*la,     ka,         'k--', zorder=-100, alpha=1.0, label='Andrews et al. 2009')\n",
    "ax.loglog(lam_d01,     kap_d01,    'k:',  zorder=-100, alpha=1.0, label='D\\'Alessio et al. 2001')\n",
    "l1, = ax.loglog(lam,   k_powerlaw,        zorder=-100, alpha=1.0, label='DSHARP, power-law')\n",
    "l2, = ax.loglog(lam,   k_fit,             zorder=-100, alpha=1.0, label='DSHARP, B11', ls='--')\n",
    "l2, = ax.loglog(lam,   k_fit2,            zorder=-100, alpha=1.0, label='DSHARP, B11S', ls='--')\n",
    "\n",
    "ax.legend(loc=3, fontsize='small').get_frame().set_edgecolor('none')\n",
    "ax.set_xlim(1e-5,1e0)\n",
    "ax.set_ylim(1e-2,1e5)\n",
    "ax.set_xlabel('$\\lambda$ [cm]')\n",
    "ax.set_ylabel(r'$\\kappa^\\mathrm{abs,tot}_\\nu$ [cm$^2$/g]')\n",
    "\n",
    "#f.subplots_adjust(\n",
    "#    bottom=0.171, top=0.94,\n",
    "#    left=0.15, right=0.97)\n",
    "\n",
    "f.subplots_adjust(\n",
    "    bottom=0.09, top=0.94,\n",
    "    left=0.09, right=0.97)\n",
    "\n",
    "plt.savefig('figures/fig6_comparison.pdf')"
   ]
  }
 ],
 "metadata": {
  "kernelspec": {
   "display_name": "Python 3",
   "language": "python",
   "name": "python3"
  },
  "language_info": {
   "codemirror_mode": {
    "name": "ipython",
    "version": 3
   },
   "file_extension": ".py",
   "mimetype": "text/x-python",
   "name": "python",
   "nbconvert_exporter": "python",
   "pygments_lexer": "ipython3",
   "version": "3.6.6"
  }
 },
 "nbformat": 4,
 "nbformat_minor": 2
}
