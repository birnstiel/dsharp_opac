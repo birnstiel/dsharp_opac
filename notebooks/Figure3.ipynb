{
 "cells": [
  {
   "cell_type": "markdown",
   "metadata": {},
   "source": [
    "## Figure 3: opacities"
   ]
  },
  {
   "cell_type": "code",
   "execution_count": null,
   "metadata": {},
   "outputs": [],
   "source": [
    "%run header.py"
   ]
  },
  {
   "cell_type": "markdown",
   "metadata": {},
   "source": [
    "Loading the data"
   ]
  },
  {
   "cell_type": "code",
   "execution_count": null,
   "metadata": {},
   "outputs": [],
   "source": [
    "d      = np.load(opacity.get_datafile('default_opacities_smooth.npz'))\n",
    "a      = d['a']\n",
    "lam    = d['lam']\n",
    "k_abs  = d['k_abs']\n",
    "k_sca  = d['k_sca']"
   ]
  },
  {
   "cell_type": "code",
   "execution_count": null,
   "metadata": {},
   "outputs": [],
   "source": [
    "f, axs = plt.subplots(2, 1, figsize=(3.5, 3.5 * 2 * 0.51), sharex=True, sharey=True)\n",
    "\n",
    "ax = axs[0]\n",
    "cc = ax.pcolormesh(a, lam, np.log10(k_abs.T), vmin=-5, vmax=5, rasterized=True)\n",
    "cb = plt.colorbar(cc, ax=ax, extend='both', shrink=0.95, pad=0.02)\n",
    "cb.set_label(r'$\\log_{10} \\, \\kappa_\\nu^\\mathrm{abs} \\, [\\mathrm{cm}^2/\\mathrm{g}$]')\n",
    "\n",
    "ax = axs[1]\n",
    "cc = ax.pcolormesh(a, lam, np.log10(k_sca.T), vmin=-5, vmax=5, rasterized=True)\n",
    "cb = plt.colorbar(cc, ax=ax, extend='both', shrink=0.95, pad=0.02)\n",
    "cb.set_label(r'$\\log_{10} \\, \\kappa^\\mathrm{sca}_\\nu \\, [\\mathrm{cm}^2/\\mathrm{g}$]')\n",
    "\n",
    "for ax in axs:\n",
    "    ax.set_xscale('log')\n",
    "    ax.set_yscale('log')\n",
    "    ax.set_ylabel('$\\lambda$ [cm]')\n",
    "\n",
    "axs[0].get_yticklabels()[1].set_visible(False)\n",
    "axs[1].set_xlabel('$a$ [cm]')\n",
    "\n",
    "f.subplots_adjust(\n",
    "    left=0.15,  right=0.99,\n",
    "    bottom=0.11, top=0.96,\n",
    "    hspace=0)\n",
    "f.savefig('figures/fig3_opacity.pdf', dpi=300)"
   ]
  }
 ],
 "metadata": {
  "kernelspec": {
   "display_name": "Python 3",
   "language": "python",
   "name": "python3"
  },
  "language_info": {
   "codemirror_mode": {
    "name": "ipython",
    "version": 3
   },
   "file_extension": ".py",
   "mimetype": "text/x-python",
   "name": "python",
   "nbconvert_exporter": "python",
   "pygments_lexer": "ipython3",
   "version": "3.6.6"
  }
 },
 "nbformat": 4,
 "nbformat_minor": 2
}
