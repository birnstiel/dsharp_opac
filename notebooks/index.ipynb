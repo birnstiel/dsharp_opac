{
 "cells": [
  {
   "cell_type": "markdown",
   "metadata": {},
   "source": [
    "# Figures for DSHARP Opacity paper"
   ]
  },
  {
   "cell_type": "markdown",
   "metadata": {},
   "source": [
    "- [Figure 1](Figure1.ipynb):         Comparison of optical constants\n",
    "- [Figure 2](Figure2.ipynb):         Mixed optical constants\n",
    "- [Figure 3](Figure3.ipynb):         Opacities\n",
    "- [Figure 4](Figure4.ipynb):         Default Size Averaging\n",
    "- [Figure 5 & 6](Figure56.ipynb):    Size Averaged wavelength dependence, Size Distributions\n",
    "- [Figure 7](Figure7.ipynb):         Comparison of the size distributions\n",
    "- [Figure 8](Figure8.ipynb):         Mean Opacities with fit distributions\n",
    "- [Figure 9](Figure9.ipynb):         Scattering Layer\n",
    "- [Figure 10 & 11](AppendixB.ipynb): Effect of assumptions on opacities"
   ]
  },
  {
   "cell_type": "markdown",
   "metadata": {},
   "source": [
    "[`opac_widget.py`](opac_widget.py): widget to compare the size distribution fits and the according mean opacities."
   ]
  }
 ],
 "metadata": {
  "kernelspec": {
   "display_name": "Python 3",
   "language": "python",
   "name": "python3"
  },
  "language_info": {
   "codemirror_mode": {
    "name": "ipython",
    "version": 3
   },
   "file_extension": ".py",
   "mimetype": "text/x-python",
   "name": "python",
   "nbconvert_exporter": "python",
   "pygments_lexer": "ipython3",
   "version": "3.6.5"
  }
 },
 "nbformat": 4,
 "nbformat_minor": 2
}
