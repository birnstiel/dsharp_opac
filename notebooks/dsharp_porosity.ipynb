{
 "cells": [
  {
   "cell_type": "markdown",
   "metadata": {},
   "source": [
    "# Calculate porous opacities for DSHARP constants"
   ]
  },
  {
   "cell_type": "code",
   "execution_count": null,
   "metadata": {},
   "outputs": [],
   "source": [
    "import argparse\n",
    "import numpy as np\n",
    "import matplotlib.pyplot as plt\n",
    "import dsharp_opac as do"
   ]
  },
  {
   "cell_type": "markdown",
   "metadata": {},
   "source": [
    "If we are running this non-interactively, parse the arguments from the commandline. To run it from the command line, you can execute:\n",
    "\n",
    "    jupyter nbconvert --to python dsharp_porosity.ipynb"
   ]
  },
  {
   "cell_type": "code",
   "execution_count": null,
   "metadata": {},
   "outputs": [],
   "source": [
    "import __main__ as main\n",
    "interactive = not hasattr(main, '__file__')\n",
    "if not interactive:\n",
    "    RTHF   = argparse.RawTextHelpFormatter\n",
    "    PARSER = argparse.ArgumentParser(description='calculate porous DSHARP opacities', formatter_class=RTHF)\n",
    "    PARSER.add_argument('-p', '--porosity', help='select porositiy', type=float, default=0.0)\n",
    "    PARSER.add_argument('-s', '--smoothed', help='smooth opacities by averageing around the particle size', action='store_true')\n",
    "    PARSER.add_argument('-e', '--extrapol', help='extrapolate opacities for large grains (g, S1, S2 values become invalid)', action='store_true')\n",
    "    ARGS  = PARSER.parse_args()\n",
    "    \n",
    "    porosity = ARGS.porosity\n",
    "    smoothed = ARGS.smoothed\n",
    "    extrapol = ARGS.extrapol"
   ]
  },
  {
   "cell_type": "markdown",
   "metadata": {},
   "source": [
    "Select the properties in case we are running this as notebook"
   ]
  },
  {
   "cell_type": "code",
   "execution_count": null,
   "metadata": {},
   "outputs": [],
   "source": [
    "if interactive:\n",
    "    print('picking values interactively')\n",
    "    porosity   = 0.0\n",
    "    smoothed   = True\n",
    "    extrapol   = True"
   ]
  },
  {
   "cell_type": "markdown",
   "metadata": {},
   "source": [
    "Set file name to store"
   ]
  },
  {
   "cell_type": "code",
   "execution_count": null,
   "metadata": {},
   "outputs": [],
   "source": [
    "fname      = 'dsharp_p{:.2f}{}{}'.format(porosity, smoothed * '_smooth', extrapol * '_extrapol')"
   ]
  },
  {
   "cell_type": "markdown",
   "metadata": {},
   "source": [
    "Get optical constants for the DSHARP mix:"
   ]
  },
  {
   "cell_type": "code",
   "execution_count": null,
   "metadata": {},
   "outputs": [],
   "source": [
    "oc, rho_s = do.get_dsharp_mix(porosity=porosity)"
   ]
  },
  {
   "cell_type": "markdown",
   "metadata": {},
   "source": [
    "Define size, mass, and wavelength grid. "
   ]
  },
  {
   "cell_type": "code",
   "execution_count": null,
   "metadata": {},
   "outputs": [],
   "source": [
    "a   = np.logspace(-5, 3, 25)\n",
    "lam = np.logspace(-5, 0, 20)"
   ]
  },
  {
   "cell_type": "markdown",
   "metadata": {},
   "source": [
    "Calculate the opacities"
   ]
  },
  {
   "cell_type": "code",
   "execution_count": null,
   "metadata": {},
   "outputs": [],
   "source": [
    "print('\\n\\n---------------------')\n",
    "print('Calculating opacities')\n",
    "print('---------------------')\n",
    "print(f'Smoothing of opacities:   {smoothed}')\n",
    "print(f'Extrapolate large grains: {extrapol}')\n",
    "print(f'porosity:                 {porosity}')"
   ]
  },
  {
   "cell_type": "code",
   "execution_count": null,
   "metadata": {},
   "outputs": [],
   "source": [
    "if smoothed:\n",
    "    results = do.get_smooth_opacities(a, lam, rho_s, oc, extrapolate_large_grains=extrapol)\n",
    "else:\n",
    "    results = do.get_opacities(a, lam, rho_s, oc, extrapolate_large_grains=extrapol)"
   ]
  },
  {
   "cell_type": "markdown",
   "metadata": {},
   "source": [
    "Store results"
   ]
  },
  {
   "cell_type": "code",
   "execution_count": null,
   "metadata": {},
   "outputs": [],
   "source": [
    "np.savez_compressed(\n",
    "    fname,\n",
    "    a     = results['a'],\n",
    "    lam   = results['lam'],\n",
    "    k_abs = results['k_abs'],\n",
    "    k_sca = results['k_sca'],\n",
    "    g     = results['g'],\n",
    "    rho_s = results['rho_s'],\n",
    "    S1    = results['S1'],\n",
    "    S2    = results['S2'],\n",
    "    theta = results['theta'])"
   ]
  }
 ],
 "metadata": {
  "kernelspec": {
   "display_name": "Python 3",
   "language": "python",
   "name": "python3"
  },
  "language_info": {
   "codemirror_mode": {
    "name": "ipython",
    "version": 3
   },
   "file_extension": ".py",
   "mimetype": "text/x-python",
   "name": "python",
   "nbconvert_exporter": "python",
   "pygments_lexer": "ipython3",
   "version": "3.7.4"
  }
 },
 "nbformat": 4,
 "nbformat_minor": 4
}
