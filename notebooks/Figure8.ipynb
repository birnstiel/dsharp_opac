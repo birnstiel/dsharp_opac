{
 "cells": [
  {
   "cell_type": "markdown",
   "metadata": {},
   "source": [
    "# Fig. 8: Mean Opacities with fit distributions"
   ]
  },
  {
   "cell_type": "code",
   "execution_count": null,
   "metadata": {},
   "outputs": [],
   "source": [
    "%run header.py"
   ]
  },
  {
   "cell_type": "code",
   "execution_count": null,
   "metadata": {},
   "outputs": [],
   "source": [
    "d      = np.load('data/default_opacities_smooth.npz')\n",
    "a      = d['a']\n",
    "gsca   = d['g'].T\n",
    "lam    = d['lam']\n",
    "k_abs  = d['k_abs']\n",
    "k_sca  = d['k_sca']"
   ]
  },
  {
   "cell_type": "code",
   "execution_count": null,
   "metadata": {},
   "outputs": [],
   "source": [
    "# define temperature and wavelength arrays\n",
    "\n",
    "T_array = np.logspace(0, np.log10(1500), 250)\n",
    "nu = c.c.cgs.value / lam\n",
    "\n",
    "# calculate the planck function and their derivatives for all those temperatures and wavelength\n",
    "\n",
    "Bnu    = np.array([aux.planck_B_nu(nu, T) for T in T_array])\n",
    "dBnudT = np.array([aux.planck_dBnu_dT(nu, T) for T in T_array])"
   ]
  },
  {
   "cell_type": "markdown",
   "metadata": {},
   "source": [
    "## Calculate mean opacities for all temperatures\n",
    "\n",
    "For the Rosseland Mean, we need the *extinction opacity*\n",
    "\n",
    "$$\n",
    "\\kappa_\\nu^\\mathrm{ext}(a) = \\kappa_\\nu^{abs}(a) + (1-g)\\,\\kappa_\\nu^{sca}(a)\n",
    "$$\n",
    "\n",
    "then the total opacity of the size distribution is given by\n",
    "\n",
    "$$\n",
    "\\kappa_\\nu^\\mathrm{abs,tot} = \\frac{\\int_0^{a_\\mathrm{max}} n(a)\\,m\\,\\kappa_\\nu^\\mathrm{abs}(a) \\,\\mathrm{d}a}{\\int_0^{a_\\mathrm{max}} n(a)\\,m \\,\\mathrm{d}a}\n",
    "$$\n",
    "\n",
    "The Planck mean opacity is \n",
    "\n",
    "$$\n",
    "\\bar \\kappa_\\mathrm{P}(T) = \\frac{\\int_0^\\infty \\kappa_\\nu^\\mathrm{abs,tot}\\, B_\\nu(T)\\,\\mathrm{d}\\nu}{\\int_0^\\infty  B_\\nu(T)\\,\\mathrm{d}\\nu}\n",
    "$$\n",
    "\n",
    "and the Rosseland mean opacity is\n",
    "\n",
    "$$\n",
    "\\bar \\kappa_\\mathrm{R}(T) = \\left( \\frac{\\int_0^\\infty \\frac{1}{\\kappa_\\nu^\\mathrm{ext,tot}} \\, \\frac{\\mathrm{d}B_\\nu(T)}{\\mathrm{d}T}\\,\\mathrm{d}\\nu}{\\int_0^\\infty  \\frac{\\mathrm{d}B_\\nu(T)}{\\mathrm{d}T}\\,\\mathrm{d}\\nu}\\right)^{-1}\n",
    "$$"
   ]
  },
  {
   "cell_type": "code",
   "execution_count": null,
   "metadata": {},
   "outputs": [],
   "source": [
    "k_ext = k_abs + (1 - gsca) * k_sca"
   ]
  },
  {
   "cell_type": "code",
   "execution_count": null,
   "metadata": {},
   "outputs": [],
   "source": [
    "q = 3.5\n",
    "amax = 0.1\n",
    "power_law = a**(4 - q)\n",
    "power_law[a > amax] = 0\n",
    "power_law = power_law / power_law.sum()\n",
    "\n",
    "fits1 = np.zeros([len(T_array), len(a)])\n",
    "fits2 = np.zeros([len(T_array), len(a)])\n",
    "\n",
    "k_P_p  = np.zeros_like(T_array)\n",
    "k_P_f1 = np.zeros_like(T_array)\n",
    "k_P_f2 = np.zeros_like(T_array)\n",
    "k_R_p  = np.zeros_like(T_array)\n",
    "k_R_f1 = np.zeros_like(T_array)\n",
    "k_R_f2 = np.zeros_like(T_array)\n",
    "\n",
    "# for each temperature ...\n",
    "\n",
    "for it, T in enumerate(T_array):\n",
    "    \n",
    "    # get the size distribution fit number 1\n",
    "    \n",
    "    f1 = opacity.get_B11_fit(T, a)\n",
    "    f1 = f1 / f1.sum()    \n",
    "    fits1[it, :] = f1\n",
    "    \n",
    "    # get the size distribution fit number 1\n",
    "    \n",
    "    f2 = opacity.get_B11S_fit(T, a)[0]\n",
    "    f2 = (f2 * a) / (f2 * a).sum()\n",
    "    fits2[it, :] = f2\n",
    "    \n",
    "    # sum the absorption opacity\n",
    "    \n",
    "    k_abs_p = (k_abs * power_law[None, :]).sum(1)\n",
    "    k_abs_f1 = (k_abs * f1[None, :]).sum(1)\n",
    "    k_abs_f2 = (k_abs * f2[None, :]).sum(1)\n",
    "    \n",
    "    # sum the EXTINCTION opacity\n",
    "    \n",
    "    k_ext_p = (k_ext * power_law[None, :]).sum(1)\n",
    "    k_ext_f1 = (k_ext * f1[None, :]).sum(1)\n",
    "    k_ext_f2 = (k_ext * f2[None, :]).sum(1)\n",
    "    \n",
    "    # calculate Planck opacity for the fit and the power-law\n",
    "    \n",
    "    B   = np.trapz(Bnu[it, :], x=nu)\n",
    "    k_P_p[it]  = np.trapz(Bnu[it, :] * k_abs_p, x=nu) / B\n",
    "    k_P_f1[it] = np.trapz(Bnu[it, :] * k_abs_f1, x=nu) / B\n",
    "    k_P_f2[it] = np.trapz(Bnu[it, :] * k_abs_f2, x=nu) / B\n",
    "    \n",
    "    # calculate Rosseland opacity for the fit and the power-law\n",
    "    \n",
    "    B   = np.trapz(dBnudT[it, :], x=nu)\n",
    "    k_R_p[it]  = B / np.trapz(dBnudT[it, :] / k_ext_p, x=nu)\n",
    "    k_R_f1[it] = B / np.trapz(dBnudT[it, :] / k_ext_f1, x=nu)\n",
    "    k_R_f2[it] = B / np.trapz(dBnudT[it, :] / k_ext_f2, x=nu)"
   ]
  },
  {
   "cell_type": "code",
   "execution_count": null,
   "metadata": {},
   "outputs": [],
   "source": [
    "try:\n",
    "    from widget import plotter\n",
    "    plotter(a, fits1, data2=fits2, xlog=True, ylog=True, ylim=[1e-10,2], times=T_array)\n",
    "except ImportError:\n",
    "    print('widget not installed')"
   ]
  },
  {
   "cell_type": "markdown",
   "metadata": {},
   "source": [
    "#### The spline fit to one of the curves"
   ]
  },
  {
   "cell_type": "code",
   "execution_count": null,
   "metadata": {},
   "outputs": [],
   "source": [
    "from scipy.interpolate import LSQUnivariateSpline, BSpline\n",
    "\n",
    "k = 2 # order of the spline\n",
    "positions = [0.5, 1, 2, 2.5, 3] # where to set the points\n",
    "\n",
    "# create a spline fit in log-log space\n",
    "\n",
    "s1 = LSQUnivariateSpline(np.log10(T_array), np.log10(k_P_f2), positions, k=k)\n",
    "\n",
    "# get the knots and coefficients. the \"ghost\" values are removed\n",
    "\n",
    "knots = s1.get_knots()\n",
    "knots = k*[knots[0]] + list(knots) + k*[knots[-1]]\n",
    "coeff = s1.get_coeffs()\n",
    "\n",
    "print('knots        = '+ ', '.join(['{:6.3g}'.format(_k) for _k in knots]))\n",
    "print('coefficients = '+ ', '.join(['{:6.3g}'.format(_k) for _k in coeff]))\n",
    "\n",
    "# create a spline base on those knots \n",
    "\n",
    "s2 = BSpline(knots, coeff, k)\n",
    "\n",
    "# plot it\n",
    "\n",
    "plt.loglog(T_array, k_P_f2)\n",
    "plt.loglog(T_array, 10**s2(np.log10(T_array)), '--')"
   ]
  },
  {
   "cell_type": "markdown",
   "metadata": {},
   "source": [
    "#### Load pre-calculated opacity ranges"
   ]
  },
  {
   "cell_type": "code",
   "execution_count": null,
   "metadata": {},
   "outputs": [],
   "source": [
    "with np.load('kPR1.npz') as fid:\n",
    "    k_P_f1_array = fid['k_P_f1_array']\n",
    "    k_R_f1_array = fid['k_R_f1_array']\n",
    "    T_grid       = fid['T_array']\n",
    "    \n",
    "kP1min = k_P_f1_array.copy()\n",
    "kP1max = k_P_f1_array.copy()\n",
    "kR1min = k_R_f1_array.copy()\n",
    "kR1max = k_R_f1_array.copy()\n",
    "for i in range(k_P_f1_array.ndim - 1):\n",
    "    kP1min = kP1min.min(-1)\n",
    "    kP1max = kP1max.max(-1)\n",
    "\n",
    "    kR1max = kR1max.max(-1)\n",
    "    kR1min = kR1min.min(-1)"
   ]
  },
  {
   "cell_type": "markdown",
   "metadata": {},
   "source": [
    "#### Do the plot"
   ]
  },
  {
   "cell_type": "code",
   "execution_count": null,
   "metadata": {},
   "outputs": [],
   "source": [
    "f, ax = plt.subplots(figsize=(3.5, 3.5 * 0.65))\n",
    "lP1, = ax.loglog(T_array, k_P_p, label='Planck mean, power-law')\n",
    "lP2, = ax.loglog(T_array, k_P_f1, '--', c=lP1.get_color(), label='Planck mean, B11')\n",
    "lP3, = ax.loglog(T_array, k_P_f2, ':',  c=lP1.get_color(), label='Planck mean, B15')\n",
    "lP4  = ax.fill_between(T_grid, kP1min, kP1max,  facecolor=lP1.get_color(), label='B11S, Planck mean', alpha=0.35)\n",
    "\n",
    "lR1, = ax.loglog(T_array, k_R_p, label='Rosseland mean, power-law')\n",
    "lR2, = ax.loglog(T_array, k_R_f1, '--', c=lR1.get_color(), label='Rosseland mean, B11')\n",
    "lR3, = ax.loglog(T_array, k_R_f2, ':',  c=lR1.get_color(), label='Rosseland mean, B15')\n",
    "lR4  = ax.fill_between(T_grid, kR1min, kR1max,  facecolor=lR1.get_color(), label='B11S, Rosseland mean', alpha=0.35)\n",
    "\n",
    "#ax.loglog(T_array, 10.**(s2(np.log10(T_array))), 'k--', alpha=0.5)\n",
    "\n",
    "dummies = []\n",
    "dummies += ax.plot([], [], 'k-',  label='power-law')\n",
    "dummies += ax.plot([], [], 'k--', label='B11')\n",
    "dummies += ax.plot([], [], 'k:',  label='B11S')\n",
    "dummies += ax.plot([], [], c=lP1.get_color(),  label='Planck mean')\n",
    "dummies += ax.plot([], [], c=lR1.get_color(),  label='Rosseland mean')\n",
    "dummies += [lP4, lR4]\n",
    "\n",
    "ax.legend(dummies, [d.get_label() for d in dummies], fontsize='xx-small')\n",
    "#ax.legend(fontsize='xx-small')\n",
    "\n",
    "ax.set_xlabel('$T\\,$ [K]')\n",
    "ax.set_ylabel(r'$\\bar\\kappa$ [cm$^2$/g]')\n",
    "\n",
    "f.subplots_adjust(\n",
    "    left=0.14, right=0.98,\n",
    "    bottom=0.17, top=0.97\n",
    "    )\n",
    "f.savefig('../figures/fig8_mean_opacities.pdf')"
   ]
  }
 ],
 "metadata": {
  "kernelspec": {
   "display_name": "Python 3",
   "language": "python",
   "name": "python3"
  },
  "language_info": {
   "codemirror_mode": {
    "name": "ipython",
    "version": 3
   },
   "file_extension": ".py",
   "mimetype": "text/x-python",
   "name": "python",
   "nbconvert_exporter": "python",
   "pygments_lexer": "ipython3",
   "version": "3.6.5"
  }
 },
 "nbformat": 4,
 "nbformat_minor": 2
}
