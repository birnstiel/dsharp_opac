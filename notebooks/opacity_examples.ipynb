{
 "cells": [
  {
   "cell_type": "markdown",
   "metadata": {},
   "source": [
    "# *DSHARP* Mie Opacities\n",
    "\n",
    "### Introduction\n",
    "\n",
    "This notebook carries out some tests or comparison for the opacity tool of the DSHARP project. \n",
    "\n",
    "**Note:** All parts have their own `import` statements. This allows running those parts of the notebook separately.\n",
    "\n",
    "For creating the DHSARP opacities discussed in Birnstiel et al. 2018, see the notebook [`smoothed_opacities.ipynb`](smoothed_opacities.ipynb).\n",
    "\n",
    "### The Code\n",
    "\n",
    "The opacity package used here will also be part of `DISKLAB`. To install the DSHARP opacity package you can download code from [github](https://github.com/birnstiel/dsharp_opac), change into that directory, and install the package with the command\n",
    "\n",
    "    pip install -e .\n",
    "    \n",
    "In the near future, the package will also be available on PyPI. The `DISKLAB`-opacity module and `dsharp_opac` are identical, they can be used interchangably if imported as `from disklab import opacity` or `import dsharp_opac as opacity`.\n",
    "\n",
    "### Outline\n",
    "\n",
    "- [**Part 0**](##Part-0%3A-Optical-Constants-%26amp%3B-Composition) Discusses origin of optical constants and composition with references.\n",
    "- [**Part 1**](#Part-1%3A-Comparing-optical-constants) Displays and compares optical constants.\n",
    "- [**Part 2**](#Part-2:-Reading-in-from-default-format) reads the pre-computed opacities.\n",
    "- [**Part 3**](#Part-3:-Comparison-to-Ricci-et-al.-2010) recreates the opacities in [Ricci et al. 2010](https://dx.doi.org/10.1051/0004-6361/200913403)\n",
    "- [**Part 4**](#Part-4:-Comparison-to-Draine-opacities) tests our Mie implementation to reproduce the astronomical silicates opacities by [Draine & Lee 1984](https://doi.org/10.1086/162480)\n",
    "- [**Part 5**](#Part-5:-Test-large-grain-extrapolation) tests the extrapolation that can be used to speed up the calculations in the geometric optics limit.\n",
    "- [**Part 6**](#Part-6:-Large-Opacity-Values) compares the default mix from [Ricci et al. 2010](https://dx.doi.org/10.1051/0004-6361/200913403), but varies the compactness & mixing rule.\n",
    "- [**Part 7**](#Part-7:-Bruggeman-Test) tests the Bruggeman mixing and compares to Maxwell-Garnett.\n",
    "- [**Part 8**](#Part-8:-Kataoka-Opacities) tries to reproduce the results from [Kataoka et al. 2014](https://dx.doi.org/10.1051/0004-6361/201323199).\n",
    "- [**Part 9**](#Part-9:-Carbonaceous-Dust-and-Water) shows the huge variations for carbonaceous material and less variation for water ice."
   ]
  },
  {
   "cell_type": "markdown",
   "metadata": {},
   "source": [
    "------------------------------------------\n",
    "## Part 0: Optical Constants & Composition\n",
    "\n",
    "Here we follow [D'Alessio et al. 2001](https://dx.doi.org/10.1086/320655) and [Pollack et al. 1994](https://doi.org/10.1086/173677). For the optical constants, we use the ones provided by [Thomas Henning](http://www2.mpia-hd.mpg.de/home/henning/Dust_opacities/Opacities/RI/old_ri.html) for Troilite and organics. For water ice we use [Warren & Brandt (2008)](https://dx.doi.org/10.1029/2007JD009744), for astronomical silicates we use the constants provided by [Draine 2003](https://dx.doi.org/10.1086/379123). We compare a mass-weighted average to the EMT mixing rules. Below, the literature compositions are noted together with the values that we use."
   ]
  },
  {
   "cell_type": "markdown",
   "metadata": {},
   "source": [
    "#### Values Stated in [Pollack et al. 1994](https://doi.org/10.1086/173677)\n",
    "\n",
    "$\\bar\\rho$ = 1.3785 g/cc\n",
    "\n",
    "\n",
    "| Species            | Bulk Density [g/cm^3] | mass fraction total | mass fraction normalized | volume fraction |\n",
    "|:-------------------|:----------------------|:--------------------|:-------------------------|:----------------|\n",
    "| Metallic iron      | 7.87                  | 1.26e-4             | 0.00900901               | 0.00157800      |\n",
    "| Olivine            | 3.49                  | 2.64e-3             | 0.18876019               | 0.07455709      |\n",
    "| Orthopyroxene      | 3.40                  | 7.70e-4             | 0.05505506               | 0.02232144      |\n",
    "| Troilite           | 4.83                  | 7.68e-4             | 0.05491205               | 0.01567200      |\n",
    "| Refractory organic | 1.50                  | 3.53e-3             | 0.25239525               | 0.23194974      |\n",
    "| Volatile organic   | 1.00                  | 6.02e-4             | 0.04304304               | 0.05933445      |\n",
    "| Water ice          | 0.92                  | 5.55e-3             | 0.39682540               | 0.59458728      |"
   ]
  },
  {
   "cell_type": "markdown",
   "metadata": {},
   "source": [
    "#### Values stated in [D'Alessio et al. 2001](https://dx.doi.org/10.1086/320655)\n",
    "\n",
    "$\\bar\\rho$ = 1.385 g/cm$^3$\n",
    "\n",
    "| Species                | References | $\\rho$ [g/cm^3] | mass fract. [tot.] | mass fraction [norm.] | vol. fraction |\n",
    "|:-----------------------|:-----------|:----------------|:-------------------|:----------------------|:--------------|\n",
    "| Water ice              | [[1]](#1)  | 0.92            | 0.0056             | 0.4038                | 0.6081        |\n",
    "| Astronomical Silicates | [[2]](#2)  | 3.30            | 0.0034             | 0.2452                | 0.1029        |\n",
    "| Troilite               | [[3]](#3)  | 4.83            | 0.000768           | 0.0554                | 0.0159        |\n",
    "| Refractory organic     | [[4]](#4)  | 1.50            | 0.0041             | 0.2956                | 0.2730        |"
   ]
  },
  {
   "cell_type": "markdown",
   "metadata": {},
   "source": [
    "#### DSHARP Values\n",
    "\n",
    "Based on the discussion in [D'Alessio et al. 2006](https://doi.org/10.1088/0004-637X/717/1/441) (who reduced the water abundance by 90%) we also reduce the water abundance, however down to values as measured in comets. These suggest values as low as 20% water mass fraction ([Pätzold et al. 2016](https://dx.doi.org/10.1038/nature16535)).\n",
    "\n",
    "$\\bar\\rho$ = 1.6686 g/cm$^3$\n",
    "\n",
    "\n",
    "| Species                | mass fraction [norm.] | vol. fraction |\n",
    "|:-----------------------|:---------------------:|:--------------|\n",
    "| Water ice              | 0.2000                | 0.3642        |\n",
    "| Astronomical Silicates | 0.3291                | 0.1670        |\n",
    "| Troilite               | 0.0743                | 0.0258        |\n",
    "| Refractory organic     | 0.3966                | 0.4430        |"
   ]
  },
  {
   "cell_type": "markdown",
   "metadata": {},
   "source": [
    "[1]<a name=\"1\"></a>: [D'Alessio et al. 2001](https://dx.doi.org/10.1086/320655) used the constants from Warren (1984), the data in [Henning & Stognienko 1996](http://adsabs.harvard.edu/abs/1996A%26A...311..291H) comes from Hudgins et al. (1993, at 100 K, amorphous ice) between 2.5 and 200 $\\mu$m, from P94 for the rest. These are measured for different phases, but the differences are small. We will be using the more recent data from [Warren & Brandt (2008)](https://dx.doi.org/10.1029/2007JD009744).\n",
    "\n",
    "[2]<a name=\"2\"></a>:\n",
    "[D'Alessio et al. 2001](https://dx.doi.org/10.1086/320655) used constant $k$ value for $\\lambda > 800\\,\\mu$m. [Henning & Stognienko 1996](http://adsabs.harvard.edu/abs/1996A%26A...311..291H) argue (their section 5.1) that $k\\propto \\lambda^{-1}$ is usually assumed, but Campbell & Ulrichs (1969) measured a high value of $k$ (0.05 at 2.7 mm). We are using the opacities from [Draine 2003](https://dx.doi.org/10.1086/379123) without changes.\n",
    "\n",
    "[3]<a name=\"3\"></a>: Troilite (new): measurements vom 10 - 500 $\\mu$m are from Begemann et al. (1994), short- and long wavelength follow P94, fitting well to Begemann et al. (1994). We use the file from T. Hennings website.\n",
    "\n",
    "[4]<a name=\"4\"></a>: Organics (new): Kramers-Kronig analysis show very little changes compared to P94. We use the file from T. Hennings website."
   ]
  },
  {
   "cell_type": "markdown",
   "metadata": {},
   "source": [
    "Imports for this part:"
   ]
  },
  {
   "cell_type": "code",
   "execution_count": null,
   "metadata": {},
   "outputs": [],
   "source": [
    "%matplotlib inline\n",
    "import matplotlib.pyplot as plt\n",
    "import numpy as np\n",
    "import os\n",
    "\n",
    "from disklab import opacity\n",
    "plt.style.use(['seaborn-ticks', {'figure.dpi': 100}])"
   ]
  },
  {
   "cell_type": "markdown",
   "metadata": {},
   "source": [
    "In a first step, we compare against the Pollack constants."
   ]
  },
  {
   "cell_type": "code",
   "execution_count": null,
   "metadata": {},
   "outputs": [],
   "source": [
    "# get the optical constants\n",
    "\n",
    "d1n = opacity.diel_henning('waterice',      new=True)\n",
    "d2n = opacity.diel_henning('olivine',       new=True)\n",
    "d3n = opacity.diel_henning('orthopyroxene', new=True)\n",
    "d4n = opacity.diel_henning('organics',      new=True)\n",
    "d5n = opacity.diel_henning('iron',          new=True)\n",
    "d6n = opacity.diel_henning('troilite',      new=True)\n",
    "\n",
    "d1o = opacity.diel_henning('waterice',      new=False)\n",
    "d2o = opacity.diel_henning('olivine',       new=False)\n",
    "d3o = opacity.diel_henning('orthopyroxene', new=False)\n",
    "d4o = opacity.diel_henning('organics',      new=False)\n",
    "d5o = opacity.diel_henning('iron',          new=False)\n",
    "d6o = opacity.diel_henning('troilite',      new=False)\n",
    "\n",
    "p_w   = opacity.diel_pollack1994('water ice')\n",
    "p_ol  = opacity.diel_pollack1994('olivine')\n",
    "p_op  = opacity.diel_pollack1994('orthopyroxene')\n",
    "p_org = opacity.diel_pollack1994('organics')\n",
    "p_i   = opacity.diel_pollack1994('iron')\n",
    "p_t   = opacity.diel_pollack1994('troilite')"
   ]
  },
  {
   "cell_type": "markdown",
   "metadata": {},
   "source": [
    "Redo [Fig. 1](http://adsbit.harvard.edu//full/1994ApJ...421..615P/0000624.000.html) from Pollack et al. 1994 paper to compare optical constants."
   ]
  },
  {
   "cell_type": "code",
   "execution_count": null,
   "metadata": {},
   "outputs": [],
   "source": [
    "f, axs = plt.subplots(3,2, figsize=(10,8), sharex=True)\n",
    "\n",
    "const_o = [d1o, d2o, d3o, d4o, d5o, d6o]\n",
    "const_n = [d1n, d2n, d3n, d4n, d5n, d6n]\n",
    "const_p = [p_w, p_ol, p_op, p_org, p_i, p_t]\n",
    "\n",
    "axs = axs.ravel()\n",
    "axs2 = []\n",
    "for c_o, c_n, c_p, ax in zip(const_o, const_n, const_p, axs):\n",
    "\n",
    "    # plot real part\n",
    "\n",
    "    line1o, = ax.semilogx(c_o._l, c_o._n, '-', label='n (old)')\n",
    "    line1n, = ax.semilogx(c_n._l, c_n._n, '-', label='n (new)')\n",
    "    line1p, = ax.semilogx(c_p._l, c_p._n, 'k-', label='n (P94)')\n",
    "\n",
    "    # plot imaginary part\n",
    "\n",
    "    ax2 = ax.twinx()\n",
    "    line2o, = ax2.loglog(c_o._l, c_o._k, '--', label='k (old)')\n",
    "    line2n, = ax2.loglog(c_n._l, c_n._k, '--', label='k (new)')\n",
    "    line2p, = ax2.loglog(c_p._l, c_p._k, 'k--', label='k (P94)')\n",
    "    axs2 +=[ax2]\n",
    "\n",
    "    # add name of the species\n",
    "\n",
    "    ax.text(.1,.9,\n",
    "            os.path.splitext(os.path.split(c_p.datafile)[1])[0].capitalize(),\n",
    "            horizontalalignment='left',\n",
    "            transform=ax.transAxes)\n",
    "\n",
    "    # add legend to first panel\n",
    "\n",
    "    if len(axs2)==5:\n",
    "        lns = [line1o, line2o, line1n, line2n, line1p, line2p]\n",
    "        labs = [l.get_label() for l in lns]\n",
    "        ax.legend(lns, labs, loc=4)\n",
    "\n",
    "# adjust the labels\n",
    "\n",
    "for ax in axs[:-2]:\n",
    "    plt.setp(ax.get_xticklabels(), visible=False)\n",
    "for ax in axs[-2:]:\n",
    "    ax.set_xlabel('wavelength [cm]')\n",
    "for ax in axs[0::2]:\n",
    "    ax.set_ylabel('n')\n",
    "for ax in axs2[1::2]:\n",
    "    ax.set_ylabel('k')\n",
    "\n",
    "# use same limits as in pollack paper\n",
    "\n",
    "axs[0].set_ylim(0.8,2.0)\n",
    "axs[1].set_ylim(0.5,2.5)\n",
    "axs[2].set_ylim(0.5,2.7)\n",
    "axs[3].set_ylim(1.4,2.4)\n",
    "axs[4].set_ylim(1e0,1e4)\n",
    "axs[4].set_yscale('log')\n",
    "axs[5].set_ylim(1e-2,1e3)\n",
    "axs[5].set_yscale('log')\n",
    "\n",
    "axs2[0].set_ylim(1e-9,1e1)\n",
    "axs2[1].set_ylim(1e-5,1e1)\n",
    "axs2[2].set_ylim(1e-4,1e1)\n",
    "axs2[3].set_ylim(1e-3,1e0)\n",
    "axs2[4].set_ylim(1e-0,1e4)\n",
    "axs2[5].set_ylim(1e-2,1e3)\n",
    "\n",
    "axs[0].set_xlim(1e-5, 1e1)\n",
    "\n",
    "f.subplots_adjust(hspace=0.1, wspace=0.5)\n",
    "\n",
    "f.savefig('pollack_optical_constants.pdf')"
   ]
  },
  {
   "cell_type": "code",
   "execution_count": null,
   "metadata": {},
   "outputs": [],
   "source": [
    "# define size and wavelength grids\n",
    "\n",
    "a = np.logspace(-5, 2, 200)\n",
    "lam = np.logspace(np.log10(1e-5), 1, 210)\n",
    "\n",
    "# get the mix of optical constants using the Bruggeman rule\n",
    "\n",
    "d_B = opacity.get_dsharp_mix(rule='Bruggeman')[0]\n",
    "d_MG,rho_s = opacity.get_dsharp_mix(rule='Maxwell-Garnett')\n",
    "\n",
    "# Calculate the Mie opacities, this takes *very* long if `extrapolate_large_grains=False`.\n",
    "\n",
    "res_B        = opacity.get_opacities(a, lam, rho_s=rho_s,        diel_const=d_B,          return_all=True, extrapol=True, extrapolate_large_grains=False)\n",
    "res_MG       = opacity.get_opacities(a, lam, rho_s=rho_s,        diel_const=d_MG,         return_all=True, extrapol=True, extrapolate_large_grains=False)"
   ]
  },
  {
   "cell_type": "markdown",
   "metadata": {},
   "source": [
    "Store the data"
   ]
  },
  {
   "cell_type": "markdown",
   "metadata": {},
   "source": [
    "Store the data"
   ]
  },
  {
   "cell_type": "markdown",
   "metadata": {},
   "source": [
    "Calculate $\\beta$ as function of $a_\\mathrm{max}$:"
   ]
  },
  {
   "cell_type": "code",
   "execution_count": null,
   "metadata": {},
   "outputs": [],
   "source": [
    "np.savez_compressed(\n",
    "    'default_opacities',\n",
    "    a     = res_B['a'],\n",
    "    lam   = res_B['lam'],\n",
    "    k_abs = res_B['k_abs'].T,\n",
    "    k_sca = res_B['k_sca'].T,\n",
    "    g     = res_B['g'].T)"
   ]
  },
  {
   "cell_type": "markdown",
   "metadata": {},
   "source": [
    "Reproduce the Figures 1 from Andrews et al. 2009 or D'Alessio et al. 2001."
   ]
  },
  {
   "cell_type": "markdown",
   "metadata": {},
   "source": [
    "Calculate $\\beta$ as function of $a_\\mathrm{max}$:"
   ]
  },
  {
   "cell_type": "code",
   "execution_count": null,
   "metadata": {},
   "outputs": [],
   "source": [
    "# a 1g-normalized size distribution (bin-integrated) up to 1 mm\n",
    "\n",
    "s = a**0.5\n",
    "s[a > 0.1] = 0\n",
    "s= s / s.sum()\n",
    "\n",
    "# size average the absorption opacities\n",
    "\n",
    "k_B  = (res_B['k_abs'] * s[:,None]).sum(0)\n",
    "k_MG = (res_MG['k_abs'] * s[:,None]).sum(0)\n",
    "\n",
    "\n",
    "# where to measure the reference value\n",
    "lam_obs = 0.087\n",
    "\n",
    "# load the D'Alessio opacity\n",
    "d2g = sum([0.0056, 0.0034, 0.000768, 0.0041])\n",
    "data_d01 = np.loadtxt('data/kappa_D01_T100K_p3.5_amax1mm.csv')\n",
    "lam_d01 = 10.**data_d01[:,0] * 1e-4\n",
    "kap_d01 = 10.**(data_d01[:,1]) / d2g\n",
    "\n",
    "# the Beckwith 1990 law\n",
    "\n",
    "kb = 3.5 * (lam / 0.087)**(-1)  # Beckwith 1990\n",
    "\n",
    "# the opacities from Andrews et al. 2009\n",
    "\n",
    "la,ka = np.loadtxt('data/andrews2009.dat').T\n",
    "\n",
    "# now the plot\n",
    "\n",
    "f, ax = plt.subplots(figsize=(7,7))\n",
    "\n",
    "ax.plot(np.log10(lam_dr),      np.log10(k_dr),    'k',   zorder=-100, alpha=0.5, label='Weingartner & Draine 2001, $\\kappa_{{{:.0f}}} = {:3.2g}$ cm$^2$/g'.format(lam_obs*1e4, np.interp(lam_obs*1e4,lam_dr,k_dr)))\n",
    "ax.plot(np.log10(1e4*lam),     np.log10(kb),      'k--', zorder=-100, alpha=0.5, label='Beckwith et al. 1990, $\\kappa_{{{:.0f}}} = {:3.2g}$ cm$^2$/g'.format(     lam_obs*1e4, np.interp(lam_obs,lam,kb)))\n",
    "ax.plot(np.log10(la),          np.log10(ka),      'k--', zorder=-100, alpha=1.0, label='Andrews et al. 2009, $\\kappa_{{{:.0f}}} = {:3.2g}$ cm$^2$/g'.format(      lam_obs*1e4, np.interp(lam_obs*1e4,la,ka)))\n",
    "ax.plot(np.log10(1e4*lam_d01), np.log10(kap_d01), 'k:',  zorder=-100, alpha=1.0, label='D\\'Alessio et al. 2001, $\\kappa_{{{:.0f}}} = {:3.2g}$ cm$^2$/g'.format(   lam_obs*1e4, np.interp(lam_obs,lam_d01,kap_d01)))\n",
    "ax.plot(np.log10(1e4*lam),     np.log10(k_MG),           zorder=-100, alpha=1.0, label='DSHARP (MG-rule), $\\kappa_{{{:.0f}}} = {:3.2g}$ cm$^2$/g'.format(         lam_obs*1e4, np.interp(lam_obs,lam,k_MG)))\n",
    "ax.plot(np.log10(1e4*lam),     np.log10(k_B),            zorder=-100, alpha=1.0, label='DSHARP (B-rule), $\\kappa_{{{:.0f}}} = {:3.2g}$ cm$^2$/g'.format(          lam_obs*1e4, np.interp(lam_obs,lam,k_B)))\n",
    "\n",
    "ax.legend(loc=3, fontsize='small')\n",
    "ax.set_xlim(-1,4)\n",
    "ax.set_ylim(-1,5)\n",
    "ax.set_xlabel('log $\\lambda$ [$\\mu$m]')\n",
    "ax.set_ylabel('log $\\kappa$ (dust) [cm$^2$/g]')\n",
    "plt.savefig('fig1.pdf')"
   ]
  },
  {
   "cell_type": "code",
   "execution_count": null,
   "metadata": {},
   "outputs": [],
   "source": [
    "lam_avg =[0.1, 0.3]\n",
    "\n",
    "r_B = opacity.size_average_opacity(lam_avg, a, lam, res_B['k_abs'], res_B['k_sca'], plot=True)\n",
    "for i, _lam in enumerate(lam_avg):\n",
    "    print('kappa_abs @ {:7.3g} mm for a_max = 1mm : {:.3g} cm^2/g'.format(_lam *10, np.interp(_lam, a, r_B['ka'][i])))\n",
    "r_B['ax1'].set_title('Bruggeman')\n",
    "plt.savefig('kappa_B.pdf')\n",
    "\n",
    "r_MG = opacity.size_average_opacity(lam_avg, a, lam, res_MG['k_abs'], res_MG['k_sca'], plot=True)\n",
    "for i, _lam in enumerate(lam_avg):\n",
    "    print('kappa_abs @ {:7.3g} mm for a_max = 1mm : {:.3g} cm^2/g'.format(_lam *10, np.interp(_lam, a, r_MG['ka'][i])))\n",
    "r_MG['ax1'].set_title('Maxwell-Garnett')\n",
    "plt.savefig('kappa_MG.pdf')"
   ]
  },
  {
   "cell_type": "markdown",
   "metadata": {},
   "source": [
    "Imports for this part:"
   ]
  },
  {
   "cell_type": "markdown",
   "metadata": {},
   "source": [
    "Reproduce the Figures 1 from Andrews et al. 2009 or D'Alessio et al. 2001."
   ]
  },
  {
   "cell_type": "markdown",
   "metadata": {},
   "source": [
    "Loading the data"
   ]
  },
  {
   "cell_type": "code",
   "execution_count": null,
   "metadata": {},
   "outputs": [],
   "source": [
    "# Download one of the Weingartner & Draine 2001 dust models for comparison\n",
    "\n",
    "filename = 'kext_albedo_WD_MW_3.1_60'\n",
    "if not os.path.isfile(os.path.join('data', filename)):\n",
    "    from urllib.request import urlretrieve\n",
    "    print('Downloading file \\'{}\\' ... '.format(filename), end='')\n",
    "    urlretrieve(\n",
    "        'ftp://ftp.astro.princeton.edu/draine/dust/mix/{}'.format(filename),\n",
    "        filename=os.path.join('data', filename))\n",
    "    print('Done!')\n",
    "\n",
    "with open(os.path.join('data', filename)) as f:\n",
    "    while not f.readline().startswith('--------'):\n",
    "        pass\n",
    "    lam_dr,_,_,_,k_dr = np.loadtxt(f).T"
   ]
  },
  {
   "cell_type": "markdown",
   "metadata": {},
   "source": [
    "Example plot: opacities of the smallest grains as function of wavelength"
   ]
  },
  {
   "cell_type": "code",
   "execution_count": null,
   "metadata": {},
   "outputs": [],
   "source": [
    "# a 1g-normalized size distribution (bin-integrated) up to 1 mm\n",
    "\n",
    "s = a**0.5\n",
    "s[a > 0.1] = 0\n",
    "s= s / s.sum()\n",
    "\n",
    "# size average the absorption opacities\n",
    "\n",
    "k_B  = (res_B['k_abs'] * s[:,None]).sum(0)\n",
    "k_MG = (res_MG['k_abs'] * s[:,None]).sum(0)\n",
    "\n",
    "\n",
    "# where to measure the reference value\n",
    "lam_obs = 0.087\n",
    "\n",
    "# load the D'Alessio opacity\n",
    "d2g = sum([0.0056, 0.0034, 0.000768, 0.0041])\n",
    "data_d01 = np.loadtxt('data/kappa_D01_T100K_p3.5_amax1mm.csv')\n",
    "lam_d01 = 10.**data_d01[:,0] * 1e-4\n",
    "kap_d01 = 10.**(data_d01[:,1]) / d2g\n",
    "\n",
    "# the Beckwith 1990 law\n",
    "\n",
    "kb = 3.5 * (lam / 0.087)**(-1)  # Beckwith 1990\n",
    "\n",
    "# the opacities from Andrews et al. 2009\n",
    "\n",
    "la,ka = np.loadtxt('data/andrews2009.dat').T\n",
    "\n",
    "# now the plot\n",
    "\n",
    "f, ax = plt.subplots(figsize=(7,7))\n",
    "\n",
    "ax.plot(np.log10(lam_dr),      np.log10(k_dr),    'k',   zorder=-100, alpha=0.5, label='Weingartner & Draine 2001, $\\kappa_{{{:.0f}}} = {:3.2g}$ cm$^2$/g'.format(lam_obs*1e4, np.interp(lam_obs*1e4,lam_dr,k_dr)))\n",
    "ax.plot(np.log10(1e4*lam),     np.log10(kb),      'k--', zorder=-100, alpha=0.5, label='Beckwith et al. 1990, $\\kappa_{{{:.0f}}} = {:3.2g}$ cm$^2$/g'.format(     lam_obs*1e4, np.interp(lam_obs,lam,kb)))\n",
    "ax.plot(np.log10(la),          np.log10(ka),      'k--', zorder=-100, alpha=1.0, label='Andrews et al. 2009, $\\kappa_{{{:.0f}}} = {:3.2g}$ cm$^2$/g'.format(      lam_obs*1e4, np.interp(lam_obs*1e4,la,ka)))\n",
    "ax.plot(np.log10(1e4*lam_d01), np.log10(kap_d01), 'k:',  zorder=-100, alpha=1.0, label='D\\'Alessio et al. 2001, $\\kappa_{{{:.0f}}} = {:3.2g}$ cm$^2$/g'.format(   lam_obs*1e4, np.interp(lam_obs,lam_d01,kap_d01)))\n",
    "ax.plot(np.log10(1e4*lam),     np.log10(k_MG),           zorder=-100, alpha=1.0, label='DSHARP (MG-rule), $\\kappa_{{{:.0f}}} = {:3.2g}$ cm$^2$/g'.format(         lam_obs*1e4, np.interp(lam_obs,lam,k_MG)))\n",
    "ax.plot(np.log10(1e4*lam),     np.log10(k_B),            zorder=-100, alpha=1.0, label='DSHARP (B-rule), $\\kappa_{{{:.0f}}} = {:3.2g}$ cm$^2$/g'.format(          lam_obs*1e4, np.interp(lam_obs,lam,k_B)))\n",
    "\n",
    "ax.legend(loc=3, fontsize='small')\n",
    "ax.set_xlim(-1,4)\n",
    "ax.set_ylim(-1,5)\n",
    "ax.set_xlabel('log $\\lambda$ [$\\mu$m]')\n",
    "ax.set_ylabel('log $\\kappa$ (dust) [cm$^2$/g]')\n",
    "plt.savefig('fig1.pdf')"
   ]
  },
  {
   "cell_type": "markdown",
   "metadata": {},
   "source": [
    "Example plot: opacities at 880 µm as function of particle size"
   ]
  },
  {
   "cell_type": "code",
   "execution_count": null,
   "metadata": {},
   "outputs": [],
   "source": [
    "ilam = lam.searchsorted(0.088)\n",
    "f, ax = plt.subplots()\n",
    "ax.loglog(a, k_abs[ilam, :], label='absorption')\n",
    "ax.loglog(a, k_sca[ilam, :], label='scattering')\n",
    "ax.set_title('wave length: {} cm'.format(lam[ilam]))\n",
    "ax.set_ylabel('opacity [cm$^2$ g$^{-1}$]')\n",
    "ax.set_xlabel('particle size [cm]')\n",
    "ax.set_ylim(ymin=1e-2)\n",
    "ax.legend();"
   ]
  },
  {
   "cell_type": "markdown",
   "metadata": {},
   "source": [
    "Example: calculate size averaged opacities and get absorption opacity at 1.3 mm."
   ]
  },
  {
   "cell_type": "code",
   "execution_count": null,
   "metadata": {},
   "outputs": [],
   "source": [
    "from disklab import opacity\n",
    "\n",
    "lam_obs = 0.13\n",
    "a_max = 0.1\n",
    "res = opacity.size_average_opacity(lam_obs, a, lam, k_abs.T, k_sca.T, plot=True)\n",
    "\n",
    "print('for a_max = {} mm, kappa_abs @ {} mm = {} cm^2/g'.format(a_max * 10, lam_obs * 10, np.interp(a_max, a, res['ka'][0, :])))"
   ]
  },
  {
   "cell_type": "markdown",
   "metadata": {},
   "source": [
    "------------------------------------------\n",
    "## Part 3: Comparison to Ricci et al. 2010\n",
    "\n",
    "### Procedure\n",
    "\n",
    "The opacity is created in the following way, following [Ricci et al. 2010](https://dx.doi.org/10.1051/0004-6361/200913403):\n",
    "\n",
    "| Optical constants                                                                | Volume fractions [%] | material density [g/cm^3] |\n",
    "|:---------------------------------------------------------------------------------|---------------------:|--------------------------:|\n",
    "| Astronomical Silicates: [Draine 2003](https://dx.doi.org/10.1086/379123)         |           7          |            3.50           |\n",
    "| Carbon  grains: [Zubko et al. 1996](https://dx.doi.org/10.1093/mnras/282.4.1321) |          21          |            2.50           |\n",
    "| Water ice: [Warren & Brandt 2008](https://dx.doi.org/10.1029/2007JD009744)       |          42          |            1.00           |\n",
    "| Vacuum                                                                           |          30          |            0.00           |\n",
    "\n",
    "The mixing of the optical constants is done according to the Bruggeman mixing rule and the opacities are calculated using a Bohren & Huffman Mie code, more specifically a Fortran 90 translation of [Bruce Draines `bhmie.f`](https://www.astro.princeton.edu/~draine/scattering.html) code."
   ]
  },
  {
   "cell_type": "markdown",
   "metadata": {},
   "source": [
    "Imports for this part:"
   ]
  },
  {
   "cell_type": "code",
   "execution_count": null,
   "metadata": {},
   "outputs": [],
   "source": [
    "%matplotlib inline\n",
    "import matplotlib.pyplot as plt\n",
    "import numpy as np\n",
    "import os\n",
    "from pkg_resources import resource_filename\n",
    "\n",
    "from disklab import opacity\n",
    "plt.style.use(['seaborn-ticks', {'figure.dpi': 100}])"
   ]
  },
  {
   "cell_type": "markdown",
   "metadata": {},
   "source": [
    "Here we create the opacities: note that the large grains at short wavelength take very long to calculate. We can use extrapolation for that by setting `extrapolate_large_grains=True` which make it very fast, but for the extreme cases ($a>1$ cm, $\\lambda < 50\\mu$m) this leads to a few percent error, and for the most extreme cases ($a>10$ cm, $\\lambda < 0.2\\mu$m) to an error of 30%."
   ]
  },
  {
   "cell_type": "code",
   "execution_count": null,
   "metadata": {},
   "outputs": [],
   "source": [
    "a = np.logspace(-5, 2, 200)\n",
    "lam = np.logspace(np.log10(6.5e-6), 0, 206)\n",
    "\n",
    "res = opacity.get_opacities(a, lam, return_all=True, extrapol=True, extrapolate_large_grains=True)\n",
    "\n",
    "k_abs = res['k_abs']\n",
    "k_sca = res['k_sca']\n",
    "g     = res['g']\n",
    "S1    = res['S1']\n",
    "S2    = res['S2']\n",
    "theta = res['theta']\n",
    "rho_s = res['rho_s']"
   ]
  },
  {
   "cell_type": "markdown",
   "metadata": {},
   "source": [
    "Load Luca Riccis averaged opacity data."
   ]
  },
  {
   "cell_type": "code",
   "execution_count": null,
   "metadata": {},
   "outputs": [],
   "source": [
    "datafile = resource_filename(opacity.__name__, os.path.join('optical_constants', 'testfiles_ricci', 'kappa.dat'))\n",
    "k_ricci = np.loadtxt(datafile)\n",
    "datafile = resource_filename(opacity.__name__, os.path.join('optical_constants', 'testfiles_ricci', 'beta.dat'))\n",
    "beta_ricci = np.loadtxt(datafile)"
   ]
  },
  {
   "cell_type": "markdown",
   "metadata": {},
   "source": [
    "Compare the averaged opacity curves"
   ]
  },
  {
   "cell_type": "code",
   "execution_count": null,
   "metadata": {},
   "outputs": [],
   "source": [
    "lam_avg = [0.1, 0.3]\n",
    "f, ax = plt.subplots(2, 1, figsize=(8, 8), sharex=True)\n",
    "f.subplots_adjust(hspace=0)\n",
    "\n",
    "res = opacity.size_average_opacity(lam_avg, a, lam, k_abs, k_sca, plot=True, ax=ax)\n",
    "\n",
    "for ilam, _lam in enumerate(lam_avg):\n",
    "    print('kappa_abs @ {:7.3g} mm for a_max = 1mm : {:.3g} cm^2/g'.format(_lam *10, np.interp(_lam, a, res['ka'][ilam])))\n",
    "    \n",
    "ax[0].loglog(k_ricci[:, 0], k_ricci[:, 1], '--', label=r'$\\kappa_\\mathrm{abs, Ricci}$')\n",
    "lines = ax[0].get_lines()\n",
    "ax[0].legend(lines,[_l.get_label() for _l in lines])\n",
    "\n",
    "ax[1].semilogx(beta_ricci[:, 0], beta_ricci[:, 1], '--', c=lines[-1].get_color(), label=r'$\\beta_\\mathrm{Ricci}$')\n",
    "lines = ax[1].get_lines()\n",
    "ax[1].legend(lines,[_l.get_label() for _l in lines]);\n",
    "ax[1].set_ylim(ymax = 3.7);"
   ]
  },
  {
   "cell_type": "markdown",
   "metadata": {},
   "source": [
    "-----------------------------------------\n",
    "## Part 4: Comparison to Draine opacities\n",
    "\n",
    "To check if our Mie calculation works properly, we compare our calculations to the results from [Bruce Draines](https://www.astro.princeton.edu/~draine/dust/dust.diel.html) website, which has both the optical properties and the opacities."
   ]
  },
  {
   "cell_type": "code",
   "execution_count": null,
   "metadata": {},
   "outputs": [],
   "source": [
    "%matplotlib inline\n",
    "import numpy as np\n",
    "import matplotlib.pyplot as plt\n",
    "plt.style.use(['seaborn',{'figure.dpi':100}])\n",
    "\n",
    "from disklab import opacity"
   ]
  },
  {
   "cell_type": "code",
   "execution_count": null,
   "metadata": {},
   "outputs": [],
   "source": [
    "a = np.logspace(-5, 2, 150)\n",
    "lam = np.logspace(np.log10(6.5e-6), 0, 206)\n",
    "\n",
    "# draine optical constants go only until 1mm, so we extrapolate\n",
    "\n",
    "dc = opacity.diel_drainelee84_astrosil()\n",
    "dc.extrapolate_constants_up(4e-2, 1e0, kind='linear')\n",
    "\n",
    "res = opacity.get_mie_coefficients(a, lam, dc, extrapolate_large_grains=True)"
   ]
  },
  {
   "cell_type": "markdown",
   "metadata": {},
   "source": [
    "Read pre-calculated opacities for 0.1 µm particles from [Bruce Draines](https://www.astro.princeton.edu/~draine/dust/dust.diel.html) website:"
   ]
  },
  {
   "cell_type": "code",
   "execution_count": null,
   "metadata": {},
   "outputs": [],
   "source": [
    "from urllib.request import urlopen\n",
    "with urlopen('ftp://ftp.astro.princeton.edu/draine/dust/diel/Sil_21') as f:\n",
    "    \n",
    "    # skip to the right particle size\n",
    "    \n",
    "    line = b''\n",
    "    while not f.readline().decode().startswith('1.000E-01 = radius(micron)'):\n",
    "        pass\n",
    "    line = f.readline()\n",
    "    \n",
    "    # read the right number of lines\n",
    "    \n",
    "    draine = np.loadtxt([f.readline() for i in range(241)])"
   ]
  },
  {
   "cell_type": "markdown",
   "metadata": {},
   "source": [
    "Plot the calculated opacity against the one on Bruce Draines website."
   ]
  },
  {
   "cell_type": "code",
   "execution_count": null,
   "metadata": {},
   "outputs": [],
   "source": [
    "ia = 0\n",
    "f, ax = plt.subplots()\n",
    "line1, = ax.loglog(lam, res['q_abs'][ia, :], '-',      lw=2, label='absorption')\n",
    "line2, = ax.loglog(lam, res['q_sca'][ia, :], '--',     lw=2, label='scattering', c=line1.get_color())\n",
    "line3, = ax.loglog(draine[:,0]*1e-4, draine[:,1], '-', lw=1, label='absorption, Draine')\n",
    "line4, = ax.loglog(draine[:,0]*1e-4, draine[:,2], '--',lw=1, label='scaattering, Draine', c=line3.get_color())\n",
    "\n",
    "ax.set_title(f'particle size: {a[ia]:.2g} cm')\n",
    "ax.set_ylabel('$Q$')\n",
    "ax.set_xlabel('$\\lambda$ [cm]')\n",
    "ax.legend();"
   ]
  },
  {
   "cell_type": "markdown",
   "metadata": {},
   "source": [
    "Calculate $\\beta$ as function of $a_\\mathrm{max}$:"
   ]
  },
  {
   "cell_type": "code",
   "execution_count": null,
   "metadata": {},
   "outputs": [],
   "source": [
    "rho_s = 3.5\n",
    "m     = 4.0 * np.pi / 3.0 * rho_s * a**3\n",
    "k_abs, k_sca = opacity.get_kappa_from_q(a, m, res['q_abs'], res['q_sca'])\n",
    "\n",
    "lam_avg = [0.1, 0.3]\n",
    "res2 = opacity.size_average_opacity(lam_avg, a, lam, k_abs, k_sca, plot=True)\n",
    "for ilam, _lam  in enumerate(lam_avg):\n",
    "    print('kappa_abs @ {:7.3g} mm for a_max = 1mm : {:.3g} cm^2/g'.format(_lam * 10, np.interp(_lam, a, res2['ka'][ilam])))"
   ]
  },
  {
   "cell_type": "markdown",
   "metadata": {},
   "source": [
    "-----------------------------------------\n",
    "## Part 5: Test large grain extrapolation\n",
    "\n",
    "For large size parameters (large grains and short wavelength), the Mie solution needs many terms. In this case, we can also use a direct extrapolation since we are in the geometric optics case. In this part, we compare those two approaches.\n",
    "\n",
    "The file `default_opacities.npz` was created in [Part 1](#Part-1:-Creating-the-LP-opacities), the file `default_opacities_extr.npz` was created in the same way, but setting `extrapolate_large_grains=True`."
   ]
  },
  {
   "cell_type": "markdown",
   "metadata": {},
   "source": [
    "Imports for this part:"
   ]
  },
  {
   "cell_type": "code",
   "execution_count": null,
   "metadata": {},
   "outputs": [],
   "source": [
    "%matplotlib inline\n",
    "import matplotlib.pyplot as plt\n",
    "import numpy as np\n",
    "import seaborn as sns\n",
    "plt.style.use([{'figure.dpi':100, 'image.cmap':'rocket'}])"
   ]
  },
  {
   "cell_type": "markdown",
   "metadata": {},
   "source": [
    "Loading the data"
   ]
  },
  {
   "cell_type": "code",
   "execution_count": null,
   "metadata": {},
   "outputs": [],
   "source": [
    "d      = np.load('default_opacities.npz')\n",
    "a      = d['a']\n",
    "lam    = d['lam']\n",
    "k_abs  = d['k_abs']\n",
    "k_sca  = d['k_sca']\n",
    "\n",
    "d2     = np.load('default_opacities_extr.npz')\n",
    "k_abs2 = d2['k_abs']\n",
    "k_sca2 = d2['k_sca']"
   ]
  },
  {
   "cell_type": "markdown",
   "metadata": {},
   "source": [
    "Plot the opacities and the errors"
   ]
  },
  {
   "cell_type": "code",
   "execution_count": null,
   "metadata": {},
   "outputs": [],
   "source": [
    "f, ax = plt.subplots(1,3, figsize=(10,3), sharex=True, sharey=True)\n",
    "\n",
    "ax[0].contourf(a, lam, np.log10(k_sca))\n",
    "ax[1].contourf(a, lam, np.log10(k_sca2))\n",
    "for _a in ax:\n",
    "    _a.set_xscale('log')\n",
    "    _a.set_yscale('log')\n",
    "    _a.set_xlabel('$a$ [cm]')\n",
    "    \n",
    "ax[0].set_ylabel('$\\lambda$ [cm]')\n",
    "    \n",
    "err = k_sca/k_sca2-1\n",
    "cc = ax[2].contourf(a, lam, np.ma.array(err*100, mask=err==0))\n",
    "cb = plt.colorbar(cc)\n",
    "cb.set_label('error [%]')\n",
    "f.subplots_adjust(bottom=0.15, hspace=0)\n",
    "f.savefig('opacitiy_comparison.pdf')"
   ]
  },
  {
   "cell_type": "markdown",
   "metadata": {},
   "source": [
    "-------------------------------\n",
    "## Part 6: Large Opacity Values\n",
    "\n",
    "Here we try the separate ingredients to the Ricci et al. 2010 mix to find the cause of the large opacities"
   ]
  },
  {
   "cell_type": "markdown",
   "metadata": {},
   "source": [
    "Imports for this part:"
   ]
  },
  {
   "cell_type": "code",
   "execution_count": null,
   "metadata": {},
   "outputs": [],
   "source": [
    "%matplotlib inline\n",
    "import matplotlib.pyplot as plt\n",
    "import numpy as np\n",
    "import os\n",
    "\n",
    "from disklab import opacity\n",
    "plt.style.use(['seaborn-ticks', {'figure.dpi': 100}])"
   ]
  },
  {
   "cell_type": "markdown",
   "metadata": {},
   "source": [
    "Specify the original values as in the default case"
   ]
  },
  {
   "cell_type": "code",
   "execution_count": null,
   "metadata": {},
   "outputs": [],
   "source": [
    "c0 = opacity.diel_vacuum()\n",
    "c1 = opacity.diel_warrenbrandt08()\n",
    "c2 = opacity.diel_zubko96(extrapol=True, lmax=2)\n",
    "c3 = opacity.diel_draine2003('astrosilicates')\n",
    "\n",
    "constants = [c0, c1, c2, c3]\n",
    "\n",
    "# after Luca Riccis thesis, the fractions in Ricci+2010 are typos\n",
    "\n",
    "vol_fract = [0.30, 0.42, 0.21, 0.07]\n",
    "densities = [0.00, 1.00, 2.50, 3.50]\n",
    "rho_s = (np.array(vol_fract)*densities).sum()"
   ]
  },
  {
   "cell_type": "markdown",
   "metadata": {},
   "source": [
    "Define size & wavelength grids for this part"
   ]
  },
  {
   "cell_type": "code",
   "execution_count": null,
   "metadata": {},
   "outputs": [],
   "source": [
    "a = np.logspace(np.log10(5e-7), 2, 150)\n",
    "lam = np.logspace(np.log10(6.5e-6), 0, 206)\n",
    "\n",
    "lam_obs = 0.087\n",
    "a_max = 0.1"
   ]
  },
  {
   "cell_type": "markdown",
   "metadata": {},
   "source": [
    "**Step 1:** Calculate the single compact material properties"
   ]
  },
  {
   "cell_type": "code",
   "execution_count": null,
   "metadata": {},
   "outputs": [],
   "source": [
    "for rho, const in zip(densities, constants):\n",
    "\n",
    "    if const.material_str == 'Vacuum':\n",
    "        continue\n",
    "\n",
    "    res   = opacity.get_opacities(a, lam, rho_s=rho, diel_const=const, extrapolate_large_grains=True)\n",
    "\n",
    "    res2 = opacity.size_average_opacity(lam_obs, a, lam, res['k_abs'], res['k_sca'], plot=True);\n",
    "    res2['ax1'].set_title(const.material_str)\n",
    "    print('{} {:.2} mm opacity {:5.2g} cm^2/g'.format(const.material_str, lam_obs * 10,np.interp(a_max, a, res2['ka'][0])))"
   ]
  },
  {
   "cell_type": "markdown",
   "metadata": {},
   "source": [
    "**Step 2:** Calculate the *compact/porous* version of the Ricci opacities using both mixing rules"
   ]
  },
  {
   "cell_type": "code",
   "execution_count": null,
   "metadata": {},
   "outputs": [],
   "source": [
    "# the compact version of the mix\n",
    "\n",
    "constants_comp = [c1, c2, c3]\n",
    "vol_comp = np.array(vol_fract[:-1])\n",
    "vol_comp /= vol_comp.sum()\n",
    "rho_comp = (densities[:-1]*vol_comp).sum()\n",
    "\n",
    "f, axs = plt.subplots(2, 2, figsize=(10,8))\n",
    "f.subplots_adjust(hspace=0.3, wspace=0.2)\n",
    "axs = axs.ravel()\n",
    "i = 0\n",
    "\n",
    "for S, V, C, R in zip(['Porous', 'Compact'], [vol_fract, vol_comp], [constants, constants_comp], [rho_s, rho_comp]):\n",
    "    for rule in ['Bruggeman', 'Maxwell-Garnett']:\n",
    "        ax = axs[i]\n",
    "\n",
    "        dm = opacity.diel_mixed(C, V, rule=rule)\n",
    "        res = opacity.get_opacities(a, lam, rho_s=R, diel_const=dm, extrapolate_large_grains=True)\n",
    "\n",
    "        res2 = opacity.size_average_opacity(lam_obs, a, lam, res['k_abs'], res['k_sca'], plot=True, ax=ax)\n",
    "        ax.set_title(S+' & '+rule)\n",
    "        print('{} {:.2} mm opacity {:5.2g} cm^2/g'.format(dm.material_str, lam_obs *10, np.interp(a_max, a, res2['ka'][0])))\n",
    "        i+=1"
   ]
  },
  {
   "cell_type": "markdown",
   "metadata": {},
   "source": [
    "**Step 3:** Testing the Kataoka 2-step mixing process (1 MG mix of the materials, another MG mix of material and vacuum)"
   ]
  },
  {
   "cell_type": "code",
   "execution_count": null,
   "metadata": {},
   "outputs": [],
   "source": [
    "c0 = opacity.diel_vacuum()\n",
    "c1 = opacity.diel_warrenbrandt08()\n",
    "c2 = opacity.diel_zubko96(extrapol=True, lmax=2)\n",
    "c3 = opacity.diel_draine2003('astrosilicates')\n",
    "\n",
    "constants = [c0, c1, c2, c3]\n",
    "\n",
    "# CASE 1 & 2: after Luca Riccis thesis, but without vacuum, both rules\n",
    "\n",
    "vol_fract_1 = [0.00, 0.42, 0.21, 0.07]\n",
    "vol_fract_1 = vol_fract_1/np.array(vol_fract_1).sum()\n",
    "densities   = [0.00, 1.00, 2.50, 3.50]\n",
    "rho_s_1     = (np.array(vol_fract_1) * densities).sum()\n",
    "\n",
    "# first step: mix with both rules\n",
    "\n",
    "mix_a_1 = opacity.diel_mixed(constants, vol_fract_1, rule='Maxwell-Garnett')\n",
    "mix_b_1 = opacity.diel_mixed(constants, vol_fract_1, rule='Bruggeman')\n",
    "\n",
    "# second step: now mix this with vacuum as \"matrix\"\n",
    "\n",
    "vol_fract_2 = [0.3, 0.7]\n",
    "densities_2 = [0.0, rho_s_1]\n",
    "rho_s_a     = (np.array(vol_fract_2)*densities_2).sum()\n",
    "\n",
    "mix_a = opacity.diel_mixed([opacity.diel_vacuum(), mix_a_1], vol_fract_2, rule='Maxwell-Garnett')\n",
    "mix_b = opacity.diel_mixed([opacity.diel_vacuum(), mix_b_1], vol_fract_2, rule='Maxwell-Garnett')\n",
    "\n",
    "# CASE 3 & 4: we mix porosity in from the beginning with both rules\n",
    "\n",
    "vol_fract_c = [0.30, 0.42, 0.21, 0.07]\n",
    "rho_s_c     = (np.array(vol_fract_c)*densities).sum()\n",
    "mix_c       = opacity.diel_mixed(constants, vol_fract_c, rule='Maxwell-Garnett')\n",
    "mix_d       = opacity.diel_mixed(constants, vol_fract_c, rule='Bruggeman')\n",
    "\n",
    "# calculate the opacities\n",
    "\n",
    "res_a = opacity.get_opacities(a, lam, rho_s=rho_s_a, diel_const=mix_a, extrapolate_large_grains=True)\n",
    "res_b = opacity.get_opacities(a, lam, rho_s=rho_s_a, diel_const=mix_b, extrapolate_large_grains=True)\n",
    "res_c = opacity.get_opacities(a, lam, rho_s=rho_s_c, diel_const=mix_c, extrapolate_large_grains=True)\n",
    "res_d = opacity.get_opacities(a, lam, rho_s=rho_s_c, diel_const=mix_d, extrapolate_large_grains=True)\n",
    "\n",
    "# a fifth case, where we do a mass weighted mix of optical constants\n",
    "\n",
    "fm = densities/rho_s_c * vol_fract_c\n",
    "\n",
    "res_1 = opacity.get_opacities(a, lam, rho_s=densities[1], diel_const=c1, extrapolate_large_grains=True)\n",
    "res_2 = opacity.get_opacities(a, lam, rho_s=densities[2], diel_const=c2, extrapolate_large_grains=True)\n",
    "res_3 = opacity.get_opacities(a, lam, rho_s=densities[3], diel_const=c3, extrapolate_large_grains=True)\n",
    "\n",
    "k_a_mw = fm[1]*res_1['k_abs'] + fm[2]*res_2['k_abs'] + fm[3]*res_3['k_abs']\n",
    "k_s_mw = fm[1]*res_1['k_sca'] + fm[2]*res_2['k_sca'] + fm[3]*res_3['k_sca']"
   ]
  },
  {
   "cell_type": "markdown",
   "metadata": {},
   "source": [
    "Plot the resulting size average opacities as function of $a_\\mathrm{max}$"
   ]
  },
  {
   "cell_type": "code",
   "execution_count": null,
   "metadata": {},
   "outputs": [],
   "source": [
    "mean_a = opacity.size_average_opacity(lam_obs, a, lam, res_a['k_abs'], res_a['k_sca'], plot=True)\n",
    "print('{} {:.2} mm opacity {:5.2g} cm^2/g'.format(mix_a.material_str, lam_obs * 10, np.interp(a_max, a, mean_a['ka'][0])))\n",
    "ax.set_title('First MG for materials, then MG for vacuum')\n",
    "plt.savefig('1.pdf')\n",
    "\n",
    "mean_b = opacity.size_average_opacity(lam_obs, a, lam, res_b['k_abs'], res_b['k_sca'], plot=True)\n",
    "print('{} {:.2} mm opacity {:5.2g} cm^2/g'.format(mix_b.material_str, lam_obs * 10, np.interp(a_max, a, mean_b['ka'][0])))\n",
    "ax.set_title('First B for materials, then MG for vacuum')\n",
    "plt.savefig('2.pdf')\n",
    "\n",
    "mean_c = opacity.size_average_opacity(lam_obs, a, lam, res_c['k_abs'], res_c['k_sca'], plot=True)\n",
    "print('{} {:.2} mm opacity {:5.2g} cm^2/g'.format(mix_c.material_str, lam_obs * 10, np.interp(a_max, a, mean_c['ka'][0])))\n",
    "ax.set_title('MG with vacuum as matrix')\n",
    "plt.savefig('3.pdf')\n",
    "\n",
    "mean_d = opacity.size_average_opacity(lam_obs, a, lam, res_d['k_abs'], res_d['k_sca'], plot=True)\n",
    "print('{} {:.2} mm opacity {:5.2g} cm^2/g'.format(mix_d.material_str, lam_obs * 10, np.interp(a_max, a, mean_d['ka'][0])))\n",
    "ax.set_title('B rule mixing everything')\n",
    "plt.savefig('4.pdf')\n",
    "\n",
    "mean_mw = opacity.size_average_opacity(lam_obs, a, lam, k_a_mw, k_s_mw, plot=True)\n",
    "print('{} {:.2} mm opacity {:5.2g} cm^2/g'.format('mass weighted', lam_obs * 10, np.interp(a_max, a, mean_mw['ka'][0])))\n",
    "ax.set_title('mass weighted')\n",
    "plt.savefig('5.pdf')"
   ]
  },
  {
   "cell_type": "markdown",
   "metadata": {},
   "source": [
    "**Step 4:** A **very rough** try to reproduce the WD2001 mix"
   ]
  },
  {
   "cell_type": "markdown",
   "metadata": {},
   "source": [
    "Download one of the [Weingartner & Draine 2001](https://dx.doi.org/10.1086/318651) dust models"
   ]
  },
  {
   "cell_type": "code",
   "execution_count": null,
   "metadata": {},
   "outputs": [],
   "source": [
    "from urllib.request import urlopen\n",
    "with urlopen('ftp://ftp.astro.princeton.edu/draine/dust/mix/kext_albedo_WD_MW_3.1_60') as f:\n",
    "    while not f.readline().decode().startswith('--------'):\n",
    "        pass\n",
    "    lam_dr,_,_,_,k_dr = np.loadtxt(f).T"
   ]
  },
  {
   "cell_type": "markdown",
   "metadata": {},
   "source": [
    "We also use a grain size distribution with a similar extent as in the WD01 paper, but we use just MRN slope instead of the more complex size distributions from their paper."
   ]
  },
  {
   "cell_type": "code",
   "execution_count": null,
   "metadata": {},
   "outputs": [],
   "source": [
    "aMRN = np.logspace(np.log10(3.5e-8), np.log10(1e-4), 100)\n",
    "\n",
    "# for silicates, graphite\n",
    "\n",
    "rho   = [3.5, 2.24]\n",
    "v     = [0.59, 0.41]\n",
    "rho_d = (np.array(v)*rho).sum()\n",
    "\n",
    "# get the silicates and extrapolate\n",
    "\n",
    "draine_sil = opacity.diel_WeingartnerDraine2001_astrosil()\n",
    "draine_sil.extrapolate_constants_up(0.05,1,kind='linear')\n",
    "\n",
    "# mix the graphite grains\n",
    "\n",
    "draine_c1  = opacity.diel_draine2003('graphite', parallel=False, a='0.01')\n",
    "draine_c2  = opacity.diel_draine2003('graphite', parallel=True, a='0.01')\n",
    "draine_c   = opacity.diel_mixed([draine_c1, draine_c2], [2. / 3, 1. / 3], rule='Maxwell-Garnett')\n",
    "\n",
    "# mix the graphite with the silicates\n",
    "\n",
    "draine     = opacity.diel_mixed([draine_sil, draine_c], v, rule='Maxwell-Garnett')\n",
    "res_draine = opacity.get_opacities(aMRN, lam, rho_s=rho_d, diel_const=draine, extrapolate_large_grains=True)\n",
    "\n",
    "# make a mass weighted pseudo-WD opacity\n",
    "\n",
    "res_draine_s = opacity.get_opacities(aMRN, lam, rho_s=rho[0], diel_const=draine_sil, extrapolate_large_grains=True)\n",
    "res_draine_c = opacity.get_opacities(aMRN, lam, rho_s=rho[1], diel_const=draine_c, extrapolate_large_grains=True)\n",
    "\n",
    "# a mrn-size distribution and size average\n",
    "\n",
    "s_draine = aMRN**0.5\n",
    "s_draine = s_draine/s_draine.sum()\n",
    "\n",
    "k_draine_s = (res_draine_s['k_abs'] * s_draine[:, None]).sum(0)\n",
    "k_draine_c = (res_draine_c['k_abs'] * s_draine[:, None]).sum(0)\n",
    "\n",
    "# now a mass weighted sum\n",
    "\n",
    "fm_draine = rho/rho_d*v\n",
    "k_d_mw = k_draine_s*fm_draine[0] + k_draine_c * fm_draine[1]"
   ]
  },
  {
   "cell_type": "markdown",
   "metadata": {},
   "source": [
    "**Step 5:** Plot all of those tests in a similar way as Fig. 3 of [Andrews et al. 2009](https://dx.doi.org/10.1088/0004-637X/700/2/1502)."
   ]
  },
  {
   "cell_type": "code",
   "execution_count": null,
   "metadata": {},
   "outputs": [],
   "source": [
    "# a 1g-normalized size distribution (bin-integrated) up to 1 mm\n",
    "\n",
    "s = a**0.5\n",
    "s[a>0.1]=0\n",
    "s= s/s.sum()\n",
    "\n",
    "# size average all the absorption opacities\n",
    "\n",
    "k1 = (res_a['k_abs'] * s[:,None]).sum(0)\n",
    "k2 = (res_b['k_abs'] * s[:,None]).sum(0)\n",
    "k3 = (res_c['k_abs'] * s[:,None]).sum(0)\n",
    "k4 = (res_d['k_abs'] * s[:,None]).sum(0)\n",
    "k5 = (k_a_mw * s[:,None]).sum(0)\n",
    "kd = (res_draine['k_abs'] * s_draine[:,None]).sum(0)\n",
    "kb = 3.5*(lam/0.087)**(-1)  # Beckwith 1990\n",
    "\n",
    "la,ka = np.loadtxt('data/andrews2009.dat').T\n",
    "\n",
    "f, ax = plt.subplots(figsize=(7,7))\n",
    "\n",
    "ax.plot(np.log10(1e4*lam), np.log10(k1),       label='Case 1 (MG/MG), $\\kappa_{{{:.0f}}} = {:3.2g}$ g/cm$^2$'.format(        lam_obs*1e4, np.interp(lam_obs,lam,k1)))\n",
    "ax.plot(np.log10(1e4*lam), np.log10(k2),       label='Case 2 (B/MG), $\\kappa_{{{:.0f}}} = {:3.2g}$ g/cm$^2$'.format(         lam_obs*1e4, np.interp(lam_obs,lam,k2)))\n",
    "ax.plot(np.log10(1e4*lam), np.log10(k3), '--', label='Case 3 (MG), $\\kappa_{{{:.0f}}} = {:3.2g}$ g/cm$^2$'.format(           lam_obs*1e4, np.interp(lam_obs,lam,k3)))\n",
    "ax.plot(np.log10(1e4*lam), np.log10(k4),       label='Case 4 (B), $\\kappa_{{{:.0f}}} = {:3.2g}$ g/cm$^2$'.format(            lam_obs*1e4, np.interp(lam_obs,lam,k4)))\n",
    "ax.plot(np.log10(1e4*lam), np.log10(k5),       label='Case 5 (mass-weighted), $\\kappa_{{{:.0f}}} = {:3.2g}$ g/cm$^2$'.format(lam_obs*1e4, np.interp(lam_obs,lam,k5)))\n",
    "\n",
    "ax.plot(np.log10(1e4*lam), np.log10(kd),     'k:',  zorder=-100, alpha=0.5, label='pseudo-WD01, MG-mix, $\\kappa_{{{:.0f}}} = {:3.2g}$ g/cm$^2$'.format(           lam_obs*1e4, np.interp(lam_obs,lam,kd)))\n",
    "ax.plot(np.log10(1e4*lam), np.log10(k_d_mw), 'k-.', zorder=-100, alpha=0.5, label='pseudo-WD01, mass-weighted mix, $\\kappa_{{{:.0f}}} = {:3.2g}$ g/cm$^2$'.format(lam_obs*1e4, np.interp(lam_obs,lam,k_d_mw)))\n",
    "ax.plot(np.log10(lam_dr),  np.log10(k_dr),   'k',   zorder=-100, alpha=0.5, label='Weingartner & Draine 2001, $\\kappa_{{{:.0f}}} = {:3.2g}$ g/cm$^2$'.format(     lam_obs*1e4, np.interp(lam_obs*1e4,lam_dr,k_dr)))\n",
    "ax.plot(np.log10(1e4*lam), np.log10(kb),     'k--', zorder=-100, alpha=0.5, label='Beckwith et al. 1990, $\\kappa_{{{:.0f}}} = {:3.2g}$ g/cm$^2$'.format(          lam_obs*1e4, np.interp(lam_obs,lam,kb)))\n",
    "ax.plot(np.log10(la),      np.log10(ka),     'k--', zorder=-100, alpha=1.0, label='Andrews et al. 2009, $\\kappa_{{{:.0f}}} = {:3.2g}$ g/cm$^2$'.format(           lam_obs*1e4, np.interp(lam_obs*1e4,la,ka)))\n",
    "\n",
    "ax.legend(loc=3, fontsize='small')\n",
    "ax.set_xlim(-1,4)\n",
    "ax.set_ylim(-1,5)\n",
    "ax.set_xlabel('log $\\lambda$ [$\\mu$m]')\n",
    "ax.set_ylabel('log $\\kappa$ (dust) [cm$^2$/g]')\n",
    "plt.savefig('andrews09-like.pdf')"
   ]
  },
  {
   "cell_type": "markdown",
   "metadata": {},
   "source": [
    "-------------------------\n",
    "## Part 7: Bruggeman Test\n",
    "\n",
    "Check if Bruggeman solution works"
   ]
  },
  {
   "cell_type": "code",
   "execution_count": null,
   "metadata": {},
   "outputs": [],
   "source": [
    "%matplotlib inline\n",
    "import matplotlib.pyplot as plt\n",
    "import numpy as np\n",
    "\n",
    "from disklab import opacity\n",
    "plt.style.use(['seaborn-ticks', {'figure.dpi': 100}])\n",
    "from mpmath import findroot"
   ]
  },
  {
   "cell_type": "markdown",
   "metadata": {},
   "source": [
    "We use the Ricci mix, but without porosity"
   ]
  },
  {
   "cell_type": "code",
   "execution_count": null,
   "metadata": {},
   "outputs": [],
   "source": [
    "c1 = opacity.diel_draine2003('astrosilicates')\n",
    "c2 = opacity.diel_zubko96(extrapol=True, lmax=2)\n",
    "c3 = opacity.diel_warrenbrandt08()\n",
    "\n",
    "constants = [c1, c2, c3]\n",
    "\n",
    "# after Luca Riccis thesis, the fractions in Ricci+2010 are typos\n",
    "\n",
    "vol_fract = [0.1, 0.3, 0.6]\n",
    "densities = [3.50, 2.50, 1.00]\n",
    "\n",
    "mix_b = opacity.diel_mixed(constants, vol_fract, rule='Bruggeman')\n",
    "mix_m = opacity.diel_mixed(constants, vol_fract, rule='Maxwell-Garnett')\n",
    "rho_s = sum(densities * np.array(vol_fract))"
   ]
  },
  {
   "cell_type": "code",
   "execution_count": null,
   "metadata": {},
   "outputs": [],
   "source": [
    "axs=opacity.compare_nk([mix_b, mix_m])\n",
    "axs[0].set_ylim(0,2)"
   ]
  },
  {
   "cell_type": "code",
   "execution_count": null,
   "metadata": {},
   "outputs": [],
   "source": [
    "lam_obs = 0.1\n",
    "\n",
    "eps = np.array([complex(*c.nk(lam_obs))**2 for c in constants])\n",
    "\n",
    "def fct(x):\n",
    "    return sum(vol_fract * ((eps - x) / (eps + 2 * x)))\n",
    "eps_mean = complex(findroot(fct, complex(0.5, 0.5)))\n",
    "\n",
    "f, ax = plt.subplots(3,1, figsize=(6,8))\n",
    "\n",
    "eps1 = np.linspace(0,40,200)\n",
    "eps2 = np.logspace(-2,2,200)\n",
    "\n",
    "EPS1,EPS2 = np.meshgrid(eps1, eps2)\n",
    "\n",
    "F = np.vectorize(fct)(EPS1+1j*EPS2)\n",
    "\n",
    "ax[0].pcolormesh(EPS1, EPS2, F.real)\n",
    "ax[0].contour(EPS1, EPS2, F.real, [0], colors='k', linestyles='--')\n",
    "ax[0].set_yscale('log')\n",
    "\n",
    "ax[1].pcolormesh(EPS1, EPS2, F.imag)\n",
    "ax[1].contour(EPS1, EPS2, F.imag, [0], colors='w', linestyles='--')\n",
    "ax[1].set_yscale('log')\n",
    "\n",
    "\n",
    "ax[2].contour(EPS1, EPS2, F.real, [0], colors='k', linestyles='--')\n",
    "ax[2].contour(EPS1, EPS2, F.imag, [0], colors='k', linestyles='--')\n",
    "ax[2].set_yscale('log')\n",
    "\n",
    "for a in ax:\n",
    "    a.set_xlabel('$\\epsilon_1$')\n",
    "    a.set_ylabel('$\\epsilon_2$')\n",
    "    \n",
    "print('eps_mean = {}'.format(eps_mean))"
   ]
  },
  {
   "cell_type": "markdown",
   "metadata": {},
   "source": [
    "----------------------------\n",
    "## Part 8: Kataoka Opacities\n",
    "\n",
    "Here we try to reproduce the results from [Kataoka et al. 2014](https://dx.doi.org/10.1051/0004-6361/201323199).\n",
    "\n",
    "Based on their section 2.1, the density of the mix should be 1.28 g/cm$^3$, not 1.68 g/cm$^3$ as they write. Perhaps a typo 2$\\rightarrow$6?"
   ]
  },
  {
   "cell_type": "markdown",
   "metadata": {},
   "source": [
    "Imports for this part:"
   ]
  },
  {
   "cell_type": "code",
   "execution_count": null,
   "metadata": {},
   "outputs": [],
   "source": [
    "%matplotlib inline\n",
    "import matplotlib.pyplot as plt\n",
    "import numpy as np\n",
    "import os\n",
    "\n",
    "from disklab import opacity\n",
    "plt.style.use(['seaborn-ticks', {'figure.dpi': 100}])"
   ]
  },
  {
   "cell_type": "markdown",
   "metadata": {},
   "source": [
    "Specify the optical constants and the mixing coefficients. Note that we make two of each material to compare after extrapolation. We also use the more recent Draine 2003 optical constants for astrosilicates instead of the Weingartner & Draine 2001, which don't extend as much to long wavelengths."
   ]
  },
  {
   "cell_type": "code",
   "execution_count": null,
   "metadata": {},
   "outputs": [],
   "source": [
    "c0  = opacity.diel_vacuum()\n",
    "\n",
    "c1i = opacity.diel_draine2003('astrosilicates')\n",
    "c1  = opacity.diel_draine2003('astrosilicates')\n",
    "c2i = opacity.diel_henning('organics', new=False)\n",
    "c2  = opacity.diel_henning('organics', new=False)\n",
    "c3i = opacity.diel_warren84()\n",
    "c3  = opacity.diel_warren84()\n",
    "\n",
    "constants = [c0,  c1,      c2,      c3]\n",
    "m_fract   = [0,   2.64e-3, 3.53e-3, 5.55e-3]\n",
    "densities = [0.0, 3.50,    1.50,    0.92]\n",
    "vol_fract = [0.0, 0.08,    0.26,    0.66]\n",
    "\n",
    "#vol_fract = [0.1, 0.07,    0.23,    0.60] # that's like Kataoka, but added 10% vacuum\n",
    "\n",
    "rho_s = (np.array(vol_fract)*densities).sum()"
   ]
  },
  {
   "cell_type": "markdown",
   "metadata": {},
   "source": [
    "Extrapolate the optical constants"
   ]
  },
  {
   "cell_type": "code",
   "execution_count": null,
   "metadata": {},
   "outputs": [],
   "source": [
    "c1.extrapolate_constants_up(0.05,1e5, kind='linear')\n",
    "c2.extrapolate_constants_up(1, 1e5, kind='linear')\n",
    "c3.extrapolate_constants_up(100, 1e5, kind='linear')"
   ]
  },
  {
   "cell_type": "markdown",
   "metadata": {},
   "source": [
    "Plot the optical properties and check the extrapolation"
   ]
  },
  {
   "cell_type": "code",
   "execution_count": null,
   "metadata": {},
   "outputs": [],
   "source": [
    "f, axs = plt.subplots(3, 1, figsize=(6, 12), sharex=True)\n",
    "\n",
    "opacity.compare_nk([c1, c1i], orig_data=True, ax=axs[0], twoaxes=True)\n",
    "opacity.compare_nk([c2, c2i], orig_data=True, ax=axs[1], twoaxes=True)\n",
    "opacity.compare_nk([c3, c3i], orig_data=True, ax=axs[2], twoaxes=True)\n",
    "axs[0].set_xlim(1e-4, 1e5)\n",
    "f.subplots_adjust(hspace=0)"
   ]
  },
  {
   "cell_type": "markdown",
   "metadata": {},
   "source": [
    "Define size & wavelength grids for this part"
   ]
  },
  {
   "cell_type": "code",
   "execution_count": null,
   "metadata": {},
   "outputs": [],
   "source": [
    "a = np.logspace(np.log10(5e-7), 2, 150)\n",
    "lam = np.logspace(0, 5, 206)"
   ]
  },
  {
   "cell_type": "code",
   "execution_count": null,
   "metadata": {},
   "outputs": [],
   "source": [
    "mix1 = opacity.diel_mixed(constants, vol_fract, rule='Maxwell-Garnett')\n",
    "mix1 = mix1.get_normal_object()\n",
    "\n",
    "mix2 = opacity.diel_mixed(constants, vol_fract, rule='Bruggeman')\n",
    "mix2 = mix2.get_normal_object()\n",
    "\n",
    "mix_k = opacity.diel_from_lnk_file('data/kataoka_mix.lnk', headerlines=5)"
   ]
  },
  {
   "cell_type": "code",
   "execution_count": null,
   "metadata": {},
   "outputs": [],
   "source": [
    "f, ax1 = plt.subplots()\n",
    "ax1.semilogx(mix1._l * 1e4, mix1._n,   'k-', lw=1, label='MG-mix, n')\n",
    "ax1.semilogx(mix2._l * 1e4, mix2._n,   'C1-', lw=1, label='B-mix, n')\n",
    "ax1.semilogx(mix_k._l * 1e4, mix_k._n, 'C2-', lw=1, label='Kataoka, n')\n",
    "ax1.legend(fontsize='small', loc=3)\n",
    "ax1.set_xlim(1e0, 1e5)\n",
    "ax1.set_ylim(1e0, 2.2)\n",
    "\n",
    "ax2 = plt.twinx(ax1)\n",
    "ax2.loglog(mix1._l * 1e4, mix1._k,   'k--', lw=1, label='MG-mix, k')\n",
    "ax2.loglog(mix2._l * 1e4, mix2._k,   'C1--', lw=1, label='B-mix, k')\n",
    "ax2.loglog(mix_k._l * 1e4, mix_k._k, 'C2--', lw=1, label='Kataoka, k')\n",
    "ax2.legend(fontsize='small', loc=4)\n",
    "ax2.set_ylim(1e-4, 1e0)\n",
    "\n",
    "ax1.set_xlabel('wavelength [cm]')\n",
    "ax1.set_ylabel('n')\n",
    "ax2.set_ylabel('k')\n",
    "plt.savefig('comparison.pdf');"
   ]
  },
  {
   "cell_type": "markdown",
   "metadata": {},
   "source": [
    "------------------------------------\n",
    "## Part 9: Carbonaceous Dust and Water\n",
    "\n",
    "Here we overplot the various optical constants for carbonaceous materials and for water(s)"
   ]
  },
  {
   "cell_type": "markdown",
   "metadata": {},
   "source": [
    "Imports for this part:"
   ]
  },
  {
   "cell_type": "code",
   "execution_count": null,
   "metadata": {},
   "outputs": [],
   "source": [
    "%matplotlib inline\n",
    "import matplotlib.pyplot as plt\n",
    "import numpy as np\n",
    "\n",
    "from disklab import opacity\n",
    "plt.style.use(['seaborn-ticks', {'figure.dpi': 100}])"
   ]
  },
  {
   "cell_type": "code",
   "execution_count": null,
   "metadata": {},
   "outputs": [],
   "source": [
    "c1 = []\n",
    "c1 += [opacity.diel_zubko96(extrapol=False)]\n",
    "c1 += [opacity.diel_zubko96(extrapol=False, sample='BE')]\n",
    "c1 += [opacity.diel_jaeger98(T=400)]\n",
    "c1 += [opacity.diel_jaeger98(T=600)]\n",
    "c1 += [opacity.diel_jaeger98(T=800)]\n",
    "c1 += [opacity.diel_jaeger98(T=1000)]\n",
    "c1 += [opacity.diel_preibisch93('amorphous carbon')]\n",
    "\n",
    "ax1 = opacity.compare_nk(c1, orig_data=True)[0]\n",
    "ax1.get_legend().set_bbox_to_anchor((1.15,1.))"
   ]
  },
  {
   "cell_type": "markdown",
   "metadata": {},
   "source": [
    "Compare water constants"
   ]
  },
  {
   "cell_type": "code",
   "execution_count": null,
   "metadata": {},
   "outputs": [],
   "source": [
    "c1 = []\n",
    "c1 += [opacity.diel_warren84()]\n",
    "c1 += [opacity.diel_warrenbrandt08()]\n",
    "c1 += [opacity.diel_henning('waterice')]\n",
    "c1 += [opacity.diel_pollack1994('water ice')]\n",
    "\n",
    "ax1 = opacity.compare_nk(c1, orig_data=True)[0]\n",
    "ax1.get_legend().set_bbox_to_anchor((1.15,1.))"
   ]
  }
 ],
 "metadata": {
  "kernelspec": {
   "display_name": "Python 3",
   "language": "python",
   "name": "python3"
  },
  "language_info": {
   "codemirror_mode": {
    "name": "ipython",
    "version": 3
   },
   "file_extension": ".py",
   "mimetype": "text/x-python",
   "name": "python",
   "nbconvert_exporter": "python",
   "pygments_lexer": "ipython3",
   "version": "3.6.5"
  }
 },
 "nbformat": 4,
 "nbformat_minor": 2
}
